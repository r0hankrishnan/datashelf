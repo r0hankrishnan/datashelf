{
 "cells": [
  {
   "cell_type": "code",
   "execution_count": null,
   "id": "6f0c2a57",
   "metadata": {},
   "outputs": [],
   "source": [
    "from datashelf.core import init, create_collection\n",
    "import os\n",
    "import shutil"
   ]
  },
  {
   "cell_type": "code",
   "execution_count": null,
   "id": "1a5d81eb",
   "metadata": {},
   "outputs": [],
   "source": [
    "# Create datashelf when DNE\n",
    "init()"
   ]
  },
  {
   "cell_type": "code",
   "execution_count": null,
   "id": "17e23507",
   "metadata": {},
   "outputs": [],
   "source": [
    "# Try to init when .datashelf already exists\n",
    "init()"
   ]
  },
  {
   "cell_type": "code",
   "execution_count": null,
   "id": "6c42aea6",
   "metadata": {},
   "outputs": [],
   "source": [
    "def rm_datashelf_dir():\n",
    "    try:\n",
    "        dir_path = os.path.join(os.getcwd(), \".datashelf\")\n",
    "        shutil.rmtree(dir_path)\n",
    "        print(f\"Directory '{dir_path}' and its contents successfully deleted.\")\n",
    "    except OSError as e:\n",
    "        print(f\"Error deleting directory: {e}\")"
   ]
  },
  {
   "cell_type": "code",
   "execution_count": null,
   "id": "5c5aa3eb",
   "metadata": {},
   "outputs": [],
   "source": [
    "# Create a collection when .datashelf exists\n",
    "create_collection(\"test\")"
   ]
  },
  {
   "cell_type": "code",
   "execution_count": null,
   "id": "3bfd9ebc",
   "metadata": {},
   "outputs": [],
   "source": [
    "# Delete .datashelf and rerun create_collection to confirm that it raises an error\n",
    "rm_datashelf_dir()\n",
    "create_collection(\"Collection 1\")"
   ]
  },
  {
   "cell_type": "code",
   "execution_count": null,
   "id": "37af5697",
   "metadata": {},
   "outputs": [],
   "source": [
    "# Remake .datashelf and collection\n",
    "init()\n",
    "create_collection(\"Collection 1\")"
   ]
  },
  {
   "cell_type": "code",
   "execution_count": null,
   "id": "3935e2bf",
   "metadata": {},
   "outputs": [],
   "source": [
    "# Try to create a collection that already exists\n",
    "create_collection(\"Collection 1\")"
   ]
  },
  {
   "cell_type": "code",
   "execution_count": null,
   "id": "baf324a3",
   "metadata": {},
   "outputs": [],
   "source": [
    "# Function to remove collection metadata.json file\n",
    "def rm_collection_metadata():\n",
    "    if os.path.exists(os.path.join(os.getcwd(), \".datashelf/collection_1/collection_1_metadata.yaml\")):\n",
    "        try:\n",
    "            os.remove(os.path.join(os.getcwd(), \".datashelf/collection_1/collection_1_metadata.yaml\"))\n",
    "            print(f\"Metadata deleted successfully.\")\n",
    "        except Exception as e:\n",
    "            print(f\"An error occured: {e}\")\n",
    "    else:\n",
    "        print(f\"Metadata does not exist.\")"
   ]
  },
  {
   "cell_type": "code",
   "execution_count": null,
   "id": "f6d1fd59",
   "metadata": {},
   "outputs": [],
   "source": [
    "rm_collection_metadata()"
   ]
  },
  {
   "cell_type": "code",
   "execution_count": null,
   "id": "c61346a9",
   "metadata": {},
   "outputs": [],
   "source": [
    "rm_collection_metadata()"
   ]
  },
  {
   "cell_type": "code",
   "execution_count": null,
   "id": "71e7f2fd",
   "metadata": {},
   "outputs": [],
   "source": [
    "# Try to create a collection when collection exists but doesn't have metadata file\n",
    "create_collection(\"Collection 1\")"
   ]
  },
  {
   "cell_type": "code",
   "execution_count": null,
   "id": "07d40240",
   "metadata": {},
   "outputs": [],
   "source": [
    "# Add content to collection_1_metadata.yaml\n",
    "import yaml\n",
    "from datetime import datetime\n",
    "\n",
    "data = {\n",
    "    \"files\": [\n",
    "        {\n",
    "            \"file_name\": \"Sales.csv\",\n",
    "            \"date_created\": \"01/01/01 12:00:00\",\n",
    "            \"date_last_modified\": \"01/01/01 12:00:00\",\n",
    "            \"tag\": \"Orginal\",\n",
    "            \"comments\": \"2025 Q3 Sales Data\",\n",
    "            \"parent\": \"\"\n",
    "        }\n",
    "    ]\n",
    "}\n",
    "\n",
    "with open('./.datashelf/collection_1/collection_1_metadata.yaml', 'w') as f:\n",
    "    yaml.dump(data, f)"
   ]
  },
  {
   "cell_type": "code",
   "execution_count": null,
   "id": "a72c16a3",
   "metadata": {},
   "outputs": [],
   "source": [
    "# Call create_collection(\"Collection 1\") again to make sure metadata content doesn't get overwritten - Passed\n",
    "create_collection(\"Collection 1\")"
   ]
  },
  {
   "cell_type": "code",
   "execution_count": null,
   "id": "9c7737e2",
   "metadata": {},
   "outputs": [],
   "source": [
    "# Write sample data in datashelf_metadata.yaml\n",
    "import yaml\n",
    "from datetime import datetime\n",
    "\n",
    "data = {\n",
    "    \"collections\": [\n",
    "        {\n",
    "            \"collection_name\": \"Collection 1\",\n",
    "            \"date_created\": \"01/01/01 12:00:00\",\n",
    "            \"date_last_modified\": \"01/01/01 12:00:00\",\n",
    "            \"files\": [\"collection_1_metadata.yaml\", \"file1.csv\", \"file2.csv\"]\n",
    "        },\n",
    "        \n",
    "        {\n",
    "            \"collection_name\": \"Collection 2\",\n",
    "            \"date_created\": \"01/02/01 12:00:00\",\n",
    "            \"date_last_modified\":\"01/02/01 12:00:00\",\n",
    "            \"files\": [\"collection_2_metadata.yaml\", \"file1.csv\", \"file2.csv\"]\n",
    "        },\n",
    "        \n",
    "        {\n",
    "            \"collection_name\": \"Collection 3\",\n",
    "            \"date_created\": \"01/03/01 12:00:00\",\n",
    "            \"date_last_modified\": \"01/03/01 12:00:00\",\n",
    "            \"files\": [\"collection_3_metadata.yaml\", \"file1.csv\", \"file2.csv\"]\n",
    "        }\n",
    "    ]\n",
    "}\n",
    "\n",
    "with open('./.datashelf/datashelf_metadata.yaml', 'w') as f:\n",
    "    yaml.dump(data, f)"
   ]
  },
  {
   "cell_type": "code",
   "execution_count": null,
   "id": "48299c61",
   "metadata": {},
   "outputs": [],
   "source": [
    "with open('./.datashelf/datashelf_metadata.yaml' , 'r') as f:\n",
    "    data = yaml.safe_load(f)"
   ]
  },
  {
   "cell_type": "code",
   "execution_count": null,
   "id": "e74187f0",
   "metadata": {},
   "outputs": [],
   "source": [
    "data['collections']"
   ]
  },
  {
   "cell_type": "code",
   "execution_count": null,
   "id": "3aa26081",
   "metadata": {},
   "outputs": [],
   "source": [
    "for i, collection in enumerate(data[\"collections\"]):\n",
    "    if collection.get(\"collection_name\").lower().replace(\" \", \"_\") == \"collection_1\":\n",
    "        print(i)\n",
    "    "
   ]
  },
  {
   "cell_type": "code",
   "execution_count": null,
   "id": "0bf0cb7e",
   "metadata": {},
   "outputs": [],
   "source": [
    "data[\"collections\"][0]['collection_name'] = \"Modified Collection 1\"\n"
   ]
  },
  {
   "cell_type": "code",
   "execution_count": null,
   "id": "f0c70149",
   "metadata": {},
   "outputs": [],
   "source": [
    "data"
   ]
  },
  {
   "cell_type": "code",
   "execution_count": null,
   "id": "8dbc7027",
   "metadata": {},
   "outputs": [],
   "source": [
    "#Write changed metadata back to datashelf_metadata.yaml\n",
    "with open(os.path.join(os.getcwd(), \".datashelf/datashelf_metadata.yaml\"), 'w') as f:\n",
    "    yaml.safe_dump(data, f)"
   ]
  },
  {
   "cell_type": "code",
   "execution_count": null,
   "id": "1ef5be9b",
   "metadata": {},
   "outputs": [],
   "source": [
    "print(\"Invalid key detected in update arg. Update can only have the following keys:\\n\\t-collection_name\\n\\t-date_created\\n\\t-date_last_modified\\n\\t-files.\"\n",
    "    )"
   ]
  },
  {
   "cell_type": "code",
   "execution_count": null,
   "id": "99572a3c",
   "metadata": {},
   "outputs": [],
   "source": [
    "not set(['collection_name', 'files']).issubset(set([\"collection_name\", \"date_created\", \"files\"]))"
   ]
  },
  {
   "cell_type": "code",
   "execution_count": null,
   "id": "e1e1d34a",
   "metadata": {},
   "outputs": [],
   "source": [
    "# Test update function\n",
    "update_dict = {'collection_name':'Newly Modified Collection 1',\n",
    "               'files': ['file 1', 'file2', 'newly_modified_collection_1_metadata.yaml']}\n",
    "\n",
    "from datashelf.utils import _edit_datashelf_metadata\n",
    "\n",
    "_edit_datashelf_metadata('Modified Collection 1', update_dict)\n"
   ]
  },
  {
   "cell_type": "code",
   "execution_count": null,
   "id": "58125385",
   "metadata": {},
   "outputs": [],
   "source": [
    "# Check datashelf_metadata.yaml to see if it worked- Passed\n",
    "\n",
    "with open(os.path.join(os.getcwd(), '.datashelf/datashelf_metadata.yaml'), 'r') as f:\n",
    "    data = yaml.safe_load(f)\n",
    "    \n",
    "data"
   ]
  },
  {
   "cell_type": "code",
   "execution_count": null,
   "id": "7e1689b9",
   "metadata": {},
   "outputs": [],
   "source": [
    "script_path = os.path.abspath(\"__file__\")\n",
    "project_root = os.path.dirname(script_path)\n",
    "print(f\"Project root (dirname(__file__)): {project_root}\")"
   ]
  },
  {
   "cell_type": "code",
   "execution_count": null,
   "id": "1989f2a0",
   "metadata": {},
   "outputs": [],
   "source": [
    "from pathlib import Path\n",
    "current = Path.cwd()\n",
    "current\n",
    "\n",
    "def find_datashelf_root():\n",
    "    \"\"\"Find existing .datashelf/ directory by walking up the tree\"\"\"\n",
    "    current = Path.cwd()\n",
    "    \n",
    "    while current != current.parent:  # Stop at filesystem root\n",
    "        if (current / '.datashelf').exists():\n",
    "            return current\n",
    "        current = current.parent\n",
    "    \n",
    "    return None  # No .datashelf found\n"
   ]
  },
  {
   "cell_type": "code",
   "execution_count": null,
   "id": "2106931e",
   "metadata": {},
   "outputs": [],
   "source": [
    "type(current)"
   ]
  },
  {
   "cell_type": "code",
   "execution_count": null,
   "id": "6a3b3732",
   "metadata": {},
   "outputs": [],
   "source": [
    "os.listdir(current/\".datashelf\")"
   ]
  },
  {
   "cell_type": "code",
   "execution_count": null,
   "id": "7d1bf86d",
   "metadata": {},
   "outputs": [],
   "source": [
    "current/'.datashelf'"
   ]
  },
  {
   "cell_type": "code",
   "execution_count": null,
   "id": "4fe47f98",
   "metadata": {},
   "outputs": [],
   "source": [
    "type(current)"
   ]
  },
  {
   "cell_type": "code",
   "execution_count": null,
   "id": "48ddef33",
   "metadata": {},
   "outputs": [],
   "source": [
    "from datashelf.utils_datashelf import _find_datashelf_root"
   ]
  },
  {
   "cell_type": "code",
   "execution_count": null,
   "id": "5edb0ec8",
   "metadata": {},
   "outputs": [],
   "source": [
    "_find_datashelf_root(return_datashelf_path = True)"
   ]
  },
  {
   "cell_type": "code",
   "execution_count": null,
   "id": "4ef02253",
   "metadata": {},
   "outputs": [],
   "source": [
    "x = \"hello hello\"\n",
    "os.path.join(os.getcwd(),f'{x}_metadata.yaml')"
   ]
  },
  {
   "cell_type": "code",
   "execution_count": null,
   "id": "89240ff2",
   "metadata": {},
   "outputs": [],
   "source": [
    "create_collection(\"collection 2\")"
   ]
  },
  {
   "cell_type": "code",
   "execution_count": null,
   "id": "c54a9dec",
   "metadata": {},
   "outputs": [],
   "source": [
    "with open('./.datashelf/collection_2/collection_2_metadata.yaml', 'r') as f:\n",
    "        data = yaml.safe_load(f)"
   ]
  },
  {
   "cell_type": "code",
   "execution_count": null,
   "id": "7e308d96",
   "metadata": {},
   "outputs": [],
   "source": [
    "type(data)"
   ]
  },
  {
   "cell_type": "code",
   "execution_count": null,
   "id": "a8e80178",
   "metadata": {},
   "outputs": [],
   "source": [
    "if data:\n",
    "    print(\"if data returns true\")\n",
    "else:\n",
    "    print(\"if data returns false\")"
   ]
  },
  {
   "cell_type": "code",
   "execution_count": null,
   "id": "fc57e339",
   "metadata": {},
   "outputs": [],
   "source": [
    "collection_name = 'collection 2'\n",
    "from datetime import datetime\n",
    "current_timestamp = datetime.now().strftime(\"%Y-%m-%d %H:%M:%S\")\n",
    "\n",
    "if not data:\n",
    "    initialized_metadata = {}\n",
    "    initialized_metadata['config'] = [{'collection_name': collection_name.lower().replace(\" \", \"_\"),\n",
    "                    'date_created': current_timestamp,\n",
    "                    'number_of_files': 0,\n",
    "                    'most_recent_commit': \"\"\n",
    "                    }]\n",
    "    initialized_metadata['files'] = []\n"
   ]
  },
  {
   "cell_type": "code",
   "execution_count": null,
   "id": "949f070b",
   "metadata": {},
   "outputs": [],
   "source": [
    "initialized_metadata"
   ]
  },
  {
   "cell_type": "code",
   "execution_count": null,
   "id": "098e1c00",
   "metadata": {},
   "outputs": [],
   "source": [
    "# Write back to yaml file \n",
    "import yaml\n",
    "with open('./.datashelf/collection_2/collection_2_metadata.yaml', 'w') as f:\n",
    "        yaml.safe_dump(initialized_metadata, f)"
   ]
  },
  {
   "cell_type": "code",
   "execution_count": null,
   "id": "589b0da2",
   "metadata": {},
   "outputs": [],
   "source": [
    "my_dict = {}  # Create an empty dictionary\n",
    "\n",
    "my_dict['key1'] = 'value1'\n",
    "my_dict['key2'] = 123\n",
    "my_dict['key3'] = True\n",
    "\n",
    "print(my_dict)"
   ]
  },
  {
   "cell_type": "code",
   "execution_count": 2,
   "id": "345da05a",
   "metadata": {},
   "outputs": [
    {
     "data": {
      "text/plain": [
       "['collection_1_metadata.yaml']"
      ]
     },
     "execution_count": 2,
     "metadata": {},
     "output_type": "execute_result"
    }
   ],
   "source": [
    "import os\n",
    "os.listdir('./.datashelf/collection_1')"
   ]
  },
  {
   "cell_type": "code",
   "execution_count": null,
   "id": "2bb9f155",
   "metadata": {},
   "outputs": [],
   "source": []
  }
 ],
 "metadata": {
  "kernelspec": {
   "display_name": ".venv",
   "language": "python",
   "name": "python3"
  },
  "language_info": {
   "codemirror_mode": {
    "name": "ipython",
    "version": 3
   },
   "file_extension": ".py",
   "mimetype": "text/x-python",
   "name": "python",
   "nbconvert_exporter": "python",
   "pygments_lexer": "ipython3",
   "version": "3.10.10"
  }
 },
 "nbformat": 4,
 "nbformat_minor": 5
}
