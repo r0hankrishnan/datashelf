{
 "cells": [
  {
   "cell_type": "code",
   "execution_count": 4,
   "id": "338709b8",
   "metadata": {},
   "outputs": [],
   "source": [
    "from datashelf.utils.shelf import _find_datashelf_root\n",
    "import os"
   ]
  },
  {
   "cell_type": "code",
   "execution_count": 8,
   "id": "ab804e2a",
   "metadata": {},
   "outputs": [
    {
     "data": {
      "text/plain": [
       "('/Users/rohankrishnan/Documents/GitHub/datashelf/.datashelf/test/test_file',\n",
       " PosixPath('/Users/rohankrishnan/Documents/GitHub/datashelf/.datashelf/test/test_file'))"
      ]
     },
     "execution_count": 8,
     "metadata": {},
     "output_type": "execute_result"
    }
   ],
   "source": [
    "collection_name = \"test\"\n",
    "file_name = \"test_file\"\n",
    "\n",
    "collection_path = _find_datashelf_root(return_datashelf_path=True)/collection_name.lower().replace(\" \", \"_\")\n",
    "    \n",
    "file_path = os.path.join(collection_path, file_name)\n",
    "pathlib_path = collection_path/file_name\n",
    "\n",
    "file_path, pathlib_path\n",
    "    "
   ]
  },
  {
   "cell_type": "code",
   "execution_count": null,
   "id": "0e7e5843",
   "metadata": {},
   "outputs": [],
   "source": []
  }
 ],
 "metadata": {
  "kernelspec": {
   "display_name": ".venv",
   "language": "python",
   "name": "python3"
  },
  "language_info": {
   "codemirror_mode": {
    "name": "ipython",
    "version": 3
   },
   "file_extension": ".py",
   "mimetype": "text/x-python",
   "name": "python",
   "nbconvert_exporter": "python",
   "pygments_lexer": "ipython3",
   "version": "3.10.10"
  }
 },
 "nbformat": 4,
 "nbformat_minor": 5
}
