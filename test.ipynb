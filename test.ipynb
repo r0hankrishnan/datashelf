{
 "cells": [
  {
   "cell_type": "code",
   "execution_count": 1,
   "id": "4aec688a",
   "metadata": {},
   "outputs": [],
   "source": [
    "import datashelf.core as ds\n",
    "import tempfile\n",
    "from pathlib import Path\n",
    "import os\n",
    "import logging"
   ]
  },
  {
   "cell_type": "code",
   "execution_count": null,
   "id": "019e0a65",
   "metadata": {},
   "outputs": [],
   "source": [
    "def test_init_creates_dot_datashelf():\n",
    "    with tempfile.TemporaryDirectory() as tmpdir:\n",
    "        tmp_path = Path(tmpdir)\n",
    "        old_cwd = Path.cwd()\n",
    "        try:\n",
    "            # Change to temp dir\n",
    "            os.chdir(tmp_path)\n",
    "            ds.init()\n",
    "            assert (tmp_path / \".datashelf\").is_dir()\n",
    "        finally:\n",
    "            os.chdir(old_cwd)"
   ]
  },
  {
   "cell_type": "code",
   "execution_count": null,
   "id": "5b1e8337",
   "metadata": {},
   "outputs": [],
   "source": [
    "test_init_creates_dot_datashelf()"
   ]
  },
  {
   "cell_type": "code",
   "execution_count": 2,
   "id": "bf7b2545",
   "metadata": {},
   "outputs": [],
   "source": [
    "def test_init_shows_message_if_called_twice():\n",
    "    with tempfile.TemporaryDirectory() as tmpdir:\n",
    "        tmp_path = Path(tmpdir)\n",
    "        old_cwd = Path.cwd()\n",
    "        try:\n",
    "            os.chdir(tmp_path)\n",
    "            res_1 = ds.init()\n",
    "            res_2 = ds.init()\n",
    "            assert res_2 == 1\n",
    "        finally:\n",
    "            os.chdir(old_cwd)"
   ]
  },
  {
   "cell_type": "code",
   "execution_count": 3,
   "id": "e9c2dcaf",
   "metadata": {},
   "outputs": [
    {
     "name": "stderr",
     "output_type": "stream",
     "text": [
      "2025-07-25 19:13:31,560 - INFO - .datashelf directory with config and metadata files initialized.\n",
      "2025-07-25 19:13:32,339 - INFO - .datashelf directory and metadata file already initialized.\n"
     ]
    }
   ],
   "source": [
    "test_init_shows_message_if_called_twice()"
   ]
  },
  {
   "cell_type": "code",
   "execution_count": 6,
   "id": "39c29a5f",
   "metadata": {},
   "outputs": [],
   "source": [
    "import pandas as pd\n",
    "import numpy as np"
   ]
  },
  {
   "cell_type": "code",
   "execution_count": 13,
   "id": "f4c4689f",
   "metadata": {},
   "outputs": [],
   "source": [
    "df = pd.DataFrame({\n",
    "        'id': range(200000),\n",
    "        'value': np.random.randn(200000),\n",
    "        'category': np.random.choice(['X', 'Y', 'Z'], 200000)\n",
    "    })"
   ]
  },
  {
   "cell_type": "code",
   "execution_count": 14,
   "id": "e318200b",
   "metadata": {},
   "outputs": [
    {
     "data": {
      "text/plain": [
       "np.int64(14800128)"
      ]
     },
     "execution_count": 14,
     "metadata": {},
     "output_type": "execute_result"
    }
   ],
   "source": [
    "df.memory_usage(deep = True).sum()"
   ]
  },
  {
   "cell_type": "code",
   "execution_count": 9,
   "id": "ea6c89bf",
   "metadata": {},
   "outputs": [
    {
     "data": {
      "text/plain": [
       "10485760"
      ]
     },
     "execution_count": 9,
     "metadata": {},
     "output_type": "execute_result"
    }
   ],
   "source": [
    "10 * 1024 * 1024"
   ]
  },
  {
   "cell_type": "code",
   "execution_count": 15,
   "id": "15c1cdbb",
   "metadata": {},
   "outputs": [
    {
     "data": {
      "text/plain": [
       "False"
      ]
     },
     "execution_count": 15,
     "metadata": {},
     "output_type": "execute_result"
    }
   ],
   "source": [
    "14800128 < 10485760"
   ]
  },
  {
   "cell_type": "code",
   "execution_count": null,
   "id": "046e939d",
   "metadata": {},
   "outputs": [],
   "source": []
  }
 ],
 "metadata": {
  "kernelspec": {
   "display_name": ".venv",
   "language": "python",
   "name": "python3"
  },
  "language_info": {
   "codemirror_mode": {
    "name": "ipython",
    "version": 3
   },
   "file_extension": ".py",
   "mimetype": "text/x-python",
   "name": "python",
   "nbconvert_exporter": "python",
   "pygments_lexer": "ipython3",
   "version": "3.10.10"
  }
 },
 "nbformat": 4,
 "nbformat_minor": 5
}
