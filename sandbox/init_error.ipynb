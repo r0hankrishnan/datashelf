{
 "cells": [
  {
   "cell_type": "code",
   "execution_count": 1,
   "id": "98a9ab99",
   "metadata": {},
   "outputs": [],
   "source": [
    "from datashelf.core import init, create_collection, save"
   ]
  },
  {
   "cell_type": "code",
   "execution_count": 2,
   "id": "9e197fe0",
   "metadata": {},
   "outputs": [
    {
     "ename": "ValueError",
     "evalue": "Cannot initialize datashelf in a subdirectory (/Users/rohankrishnan/Documents/GitHub/datashelf/sandbox/example_error). Datashelf should be initialized at or above the current directory to ensure it can be found from all project files. Consider running init() without set_dir, or use a parent directory.",
     "output_type": "error",
     "traceback": [
      "\u001b[0;31m---------------------------------------------------------------------------\u001b[0m",
      "\u001b[0;31mValueError\u001b[0m                                Traceback (most recent call last)",
      "Cell \u001b[0;32mIn[2], line 2\u001b[0m\n\u001b[1;32m      1\u001b[0m \u001b[38;5;66;03m# Throws an error - like it should :)\u001b[39;00m\n\u001b[0;32m----> 2\u001b[0m \u001b[43minit\u001b[49m\u001b[43m(\u001b[49m\u001b[43mset_dir\u001b[49m\u001b[43m \u001b[49m\u001b[38;5;241;43m=\u001b[39;49m\u001b[43m \u001b[49m\u001b[38;5;124;43m'\u001b[39;49m\u001b[38;5;124;43m./example_error\u001b[39;49m\u001b[38;5;124;43m'\u001b[39;49m\u001b[43m)\u001b[49m\n",
      "File \u001b[0;32m~/Documents/GitHub/datashelf/datashelf/core.py:30\u001b[0m, in \u001b[0;36minit\u001b[0;34m(set_dir)\u001b[0m\n\u001b[1;32m     26\u001b[0m \u001b[38;5;66;03m## These top level if statements should probably be turned into helper functions for readibility\u001b[39;00m\n\u001b[1;32m     27\u001b[0m \n\u001b[1;32m     28\u001b[0m \u001b[38;5;66;03m# If user sets a specific path for .datashelf\u001b[39;00m\n\u001b[1;32m     29\u001b[0m \u001b[38;5;28;01mif\u001b[39;00m set_dir:\n\u001b[0;32m---> 30\u001b[0m     \u001b[43m_init_with_set_dir\u001b[49m\u001b[43m(\u001b[49m\u001b[43mset_dir\u001b[49m\u001b[43m \u001b[49m\u001b[38;5;241;43m=\u001b[39;49m\u001b[43m \u001b[49m\u001b[43mset_dir\u001b[49m\u001b[43m)\u001b[49m\n\u001b[1;32m     32\u001b[0m \u001b[38;5;66;03m# If no set path, initialize .datashelf in cwd\u001b[39;00m\n\u001b[1;32m     33\u001b[0m \u001b[38;5;28;01melse\u001b[39;00m:\n\u001b[1;32m     34\u001b[0m     _init_with_current_dir()\n",
      "File \u001b[0;32m~/Documents/GitHub/datashelf/datashelf/core.py:179\u001b[0m, in \u001b[0;36m_init_with_set_dir\u001b[0;34m(set_dir)\u001b[0m\n\u001b[1;32m    177\u001b[0m \u001b[38;5;66;03m# Check if target_dir is a subdirectory of current_dir\u001b[39;00m\n\u001b[1;32m    178\u001b[0m \u001b[38;5;28;01mif\u001b[39;00m target_dir\u001b[38;5;241m.\u001b[39mstartswith(current_dir \u001b[38;5;241m+\u001b[39m os\u001b[38;5;241m.\u001b[39msep):\n\u001b[0;32m--> 179\u001b[0m     \u001b[38;5;28;01mraise\u001b[39;00m \u001b[38;5;167;01mValueError\u001b[39;00m(\n\u001b[1;32m    180\u001b[0m         \u001b[38;5;124mf\u001b[39m\u001b[38;5;124m\"\u001b[39m\u001b[38;5;124mCannot initialize datashelf in a subdirectory (\u001b[39m\u001b[38;5;132;01m{\u001b[39;00mtarget_dir\u001b[38;5;132;01m}\u001b[39;00m\u001b[38;5;124m). \u001b[39m\u001b[38;5;124m\"\u001b[39m\n\u001b[1;32m    181\u001b[0m         \u001b[38;5;124mf\u001b[39m\u001b[38;5;124m\"\u001b[39m\u001b[38;5;124mDatashelf should be initialized at or above the current directory \u001b[39m\u001b[38;5;124m\"\u001b[39m\n\u001b[1;32m    182\u001b[0m         \u001b[38;5;124mf\u001b[39m\u001b[38;5;124m\"\u001b[39m\u001b[38;5;124mto ensure it can be found from all project files. \u001b[39m\u001b[38;5;124m\"\u001b[39m\n\u001b[1;32m    183\u001b[0m         \u001b[38;5;124mf\u001b[39m\u001b[38;5;124m\"\u001b[39m\u001b[38;5;124mConsider running init() without set_dir, or use a parent directory.\u001b[39m\u001b[38;5;124m\"\u001b[39m\n\u001b[1;32m    184\u001b[0m     )\n\u001b[1;32m    186\u001b[0m \u001b[38;5;28;01melif\u001b[39;00m os\u001b[38;5;241m.\u001b[39mpath\u001b[38;5;241m.\u001b[39misdir(os\u001b[38;5;241m.\u001b[39mpath\u001b[38;5;241m.\u001b[39mjoin(set_dir, \u001b[38;5;124m'\u001b[39m\u001b[38;5;124m.datashelf\u001b[39m\u001b[38;5;124m'\u001b[39m)) \u001b[38;5;129;01mand\u001b[39;00m os\u001b[38;5;241m.\u001b[39mpath\u001b[38;5;241m.\u001b[39mexists(os\u001b[38;5;241m.\u001b[39mpath\u001b[38;5;241m.\u001b[39mjoin(set_dir, \u001b[38;5;124m'\u001b[39m\u001b[38;5;124m.datashelf\u001b[39m\u001b[38;5;124m'\u001b[39m, \u001b[38;5;124m'\u001b[39m\u001b[38;5;124mdatashelf_metadata.yaml\u001b[39m\u001b[38;5;124m'\u001b[39m)):\n\u001b[1;32m    187\u001b[0m     \u001b[38;5;28;01mreturn\u001b[39;00m logger\u001b[38;5;241m.\u001b[39minfo(\u001b[38;5;124m\"\u001b[39m\u001b[38;5;124m.datashelf directory and metadata already initalized.\u001b[39m\u001b[38;5;124m\"\u001b[39m)\n",
      "\u001b[0;31mValueError\u001b[0m: Cannot initialize datashelf in a subdirectory (/Users/rohankrishnan/Documents/GitHub/datashelf/sandbox/example_error). Datashelf should be initialized at or above the current directory to ensure it can be found from all project files. Consider running init() without set_dir, or use a parent directory."
     ]
    }
   ],
   "source": [
    "# Throws an error - like it should :)\n",
    "init(set_dir = './example_error')"
   ]
  },
  {
   "cell_type": "code",
   "execution_count": null,
   "id": "836b256a",
   "metadata": {},
   "outputs": [],
   "source": []
  }
 ],
 "metadata": {
  "kernelspec": {
   "display_name": ".venv",
   "language": "python",
   "name": "python3"
  },
  "language_info": {
   "codemirror_mode": {
    "name": "ipython",
    "version": 3
   },
   "file_extension": ".py",
   "mimetype": "text/x-python",
   "name": "python",
   "nbconvert_exporter": "python",
   "pygments_lexer": "ipython3",
   "version": "3.10.10"
  }
 },
 "nbformat": 4,
 "nbformat_minor": 5
}
