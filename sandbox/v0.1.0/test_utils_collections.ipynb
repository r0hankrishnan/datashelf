{
 "cells": [
  {
   "cell_type": "code",
   "execution_count": 1,
   "id": "302d92cc",
   "metadata": {},
   "outputs": [],
   "source": [
    "from datashelf.core import init, create_collection, save\n",
    "import pandas as pd"
   ]
  },
  {
   "cell_type": "code",
   "execution_count": 2,
   "id": "e412d318",
   "metadata": {},
   "outputs": [],
   "source": [
    "df = pd.DataFrame([{\"name\":\"Alice\", \"revenue\":\"10000\", \"position\":\"manager\"},\n",
    "                   {\"name\":\"Bob\", \"revenue\":\"5000\", \"position\":\"assistant manager\"}])"
   ]
  },
  {
   "cell_type": "code",
   "execution_count": 3,
   "id": "5e600b11",
   "metadata": {},
   "outputs": [
    {
     "data": {
      "application/vnd.microsoft.datawrangler.viewer.v0+json": {
       "columns": [
        {
         "name": "index",
         "rawType": "int64",
         "type": "integer"
        },
        {
         "name": "name",
         "rawType": "object",
         "type": "string"
        },
        {
         "name": "revenue",
         "rawType": "object",
         "type": "string"
        },
        {
         "name": "position",
         "rawType": "object",
         "type": "string"
        }
       ],
       "ref": "cf3030b7-acc6-4773-a3c8-c5f521671955",
       "rows": [
        [
         "0",
         "Alice",
         "10000",
         "manager"
        ],
        [
         "1",
         "Bob",
         "5000",
         "assistant manager"
        ]
       ],
       "shape": {
        "columns": 3,
        "rows": 2
       }
      },
      "text/html": [
       "<div>\n",
       "<style scoped>\n",
       "    .dataframe tbody tr th:only-of-type {\n",
       "        vertical-align: middle;\n",
       "    }\n",
       "\n",
       "    .dataframe tbody tr th {\n",
       "        vertical-align: top;\n",
       "    }\n",
       "\n",
       "    .dataframe thead th {\n",
       "        text-align: right;\n",
       "    }\n",
       "</style>\n",
       "<table border=\"1\" class=\"dataframe\">\n",
       "  <thead>\n",
       "    <tr style=\"text-align: right;\">\n",
       "      <th></th>\n",
       "      <th>name</th>\n",
       "      <th>revenue</th>\n",
       "      <th>position</th>\n",
       "    </tr>\n",
       "  </thead>\n",
       "  <tbody>\n",
       "    <tr>\n",
       "      <th>0</th>\n",
       "      <td>Alice</td>\n",
       "      <td>10000</td>\n",
       "      <td>manager</td>\n",
       "    </tr>\n",
       "    <tr>\n",
       "      <th>1</th>\n",
       "      <td>Bob</td>\n",
       "      <td>5000</td>\n",
       "      <td>assistant manager</td>\n",
       "    </tr>\n",
       "  </tbody>\n",
       "</table>\n",
       "</div>"
      ],
      "text/plain": [
       "    name revenue           position\n",
       "0  Alice   10000            manager\n",
       "1    Bob    5000  assistant manager"
      ]
     },
     "execution_count": 3,
     "metadata": {},
     "output_type": "execute_result"
    }
   ],
   "source": [
    "df"
   ]
  },
  {
   "cell_type": "code",
   "execution_count": 4,
   "id": "b7de6697",
   "metadata": {},
   "outputs": [
    {
     "name": "stderr",
     "output_type": "stream",
     "text": [
      "2025-07-21 17:57:27,553 - INFO - .datashelf directory and metadata already initalized.\n"
     ]
    }
   ],
   "source": [
    "init()"
   ]
  },
  {
   "cell_type": "code",
   "execution_count": 5,
   "id": "3060262e",
   "metadata": {},
   "outputs": [
    {
     "name": "stderr",
     "output_type": "stream",
     "text": [
      "2025-07-21 17:57:28,161 - INFO - collection already exists at /Users/rohankrishnan/Documents/GitHub/datashelf/.datashelf/revenue_management with metadata file: revenue_management_metadata.yaml.\n"
     ]
    }
   ],
   "source": [
    "create_collection(\"revenue_management\")"
   ]
  },
  {
   "cell_type": "code",
   "execution_count": 6,
   "id": "03f96453",
   "metadata": {},
   "outputs": [
    {
     "name": "stderr",
     "output_type": "stream",
     "text": [
      "2025-07-21 17:57:29,192 - INFO - basic data added to revenue management\n"
     ]
    }
   ],
   "source": [
    "save(df = df, collection_name = \"revenue management\", name = \"basic data\", tag = \"raw\", message=\"test\")"
   ]
  },
  {
   "cell_type": "markdown",
   "id": "6f17d2d9",
   "metadata": {},
   "source": [
    "If we try to save the same exact df again, we should get a logger message saying that it already is in metadata."
   ]
  },
  {
   "cell_type": "code",
   "execution_count": 7,
   "id": "1c6090c4",
   "metadata": {},
   "outputs": [
    {
     "name": "stderr",
     "output_type": "stream",
     "text": [
      "2025-07-21 17:58:03,288 - INFO - basic's hash matches a dataframe that is already saved in datashelf: basic data.\n"
     ]
    }
   ],
   "source": [
    "save(df = df, collection_name = \"revenue management\", name = \"basic\", tag = \"raw\", message = \"test2\")"
   ]
  },
  {
   "cell_type": "code",
   "execution_count": 9,
   "id": "f6f353e8",
   "metadata": {},
   "outputs": [
    {
     "data": {
      "text/plain": [
       "[]"
      ]
     },
     "execution_count": 9,
     "metadata": {},
     "output_type": "execute_result"
    }
   ],
   "source": [
    "import yaml\n",
    "with open('./.datashelf/datashelf_metadata.yaml') as f:\n",
    "    data = yaml.safe_load(f)\n",
    "    \n",
    "data['config'][0]['collections']"
   ]
  },
  {
   "cell_type": "code",
   "execution_count": null,
   "id": "d65df5fe",
   "metadata": {},
   "outputs": [],
   "source": []
  }
 ],
 "metadata": {
  "kernelspec": {
   "display_name": ".venv",
   "language": "python",
   "name": "python3"
  },
  "language_info": {
   "codemirror_mode": {
    "name": "ipython",
    "version": 3
   },
   "file_extension": ".py",
   "mimetype": "text/x-python",
   "name": "python",
   "nbconvert_exporter": "python",
   "pygments_lexer": "ipython3",
   "version": "3.10.10"
  }
 },
 "nbformat": 4,
 "nbformat_minor": 5
}
