{
 "cells": [
  {
   "cell_type": "code",
   "execution_count": 6,
   "id": "78ba002a",
   "metadata": {},
   "outputs": [],
   "source": [
    "from datashelf.core import init, create_collection, save\n",
    "import pandas as pd"
   ]
  },
  {
   "cell_type": "code",
   "execution_count": 7,
   "id": "45324ad5",
   "metadata": {},
   "outputs": [],
   "source": [
    "df = pd.DataFrame([{\"name\":\"Alice\", \"revenue\":\"10000\", \"position\":\"manager\"},\n",
    "                   {\"name\":\"Bob\", \"revenue\":\"5000\", \"position\":\"assistant manager\"}])"
   ]
  },
  {
   "cell_type": "code",
   "execution_count": 8,
   "id": "f12b6799",
   "metadata": {},
   "outputs": [
    {
     "name": "stderr",
     "output_type": "stream",
     "text": [
      "2025-07-21 19:25:00,761 - INFO - .datashelf directory and metadata initialized\n"
     ]
    }
   ],
   "source": [
    "init()"
   ]
  },
  {
   "cell_type": "code",
   "execution_count": 9,
   "id": "3285ced7",
   "metadata": {},
   "outputs": [
    {
     "name": "stderr",
     "output_type": "stream",
     "text": [
      "2025-07-21 19:25:00,771 - INFO - collection directory: FY 2025 Revenue and metadata file fy_2025_revenue_metadata.yaml created.\n"
     ]
    }
   ],
   "source": [
    "create_collection(\"FY 2025 Revenue\")"
   ]
  },
  {
   "cell_type": "code",
   "execution_count": 10,
   "id": "b9d70830",
   "metadata": {},
   "outputs": [
    {
     "name": "stderr",
     "output_type": "stream",
     "text": [
      "2025-07-21 19:25:00,790 - INFO - basic data added to FY 2025 Revenue\n"
     ]
    }
   ],
   "source": [
    "save(df = df, collection_name = \"FY 2025 Revenue\", name = \"basic data\", tag = \"raw\", message=\"test\")"
   ]
  },
  {
   "cell_type": "code",
   "execution_count": null,
   "id": "3ea0569b",
   "metadata": {},
   "outputs": [],
   "source": []
  }
 ],
 "metadata": {
  "kernelspec": {
   "display_name": ".venv",
   "language": "python",
   "name": "python3"
  },
  "language_info": {
   "codemirror_mode": {
    "name": "ipython",
    "version": 3
   },
   "file_extension": ".py",
   "mimetype": "text/x-python",
   "name": "python",
   "nbconvert_exporter": "python",
   "pygments_lexer": "ipython3",
   "version": "3.10.10"
  }
 },
 "nbformat": 4,
 "nbformat_minor": 5
}
