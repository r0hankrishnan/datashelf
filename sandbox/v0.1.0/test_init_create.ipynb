{
 "cells": [
  {
   "cell_type": "markdown",
   "id": "52d853dc",
   "metadata": {},
   "source": [
    "# Testining init() and create_collection() functions from datashelf.core\n",
    "\n",
    "Tested the following:\n",
    "- init() new datashelf\n",
    "- Try to init() when .datashelf/ already exists -> should return a message and do nothing\n",
    "- Removed .datashelf/ directory and tried to create a collection -> should return a TypeError\n",
    "- Test init() and creat_collection() concurrently -> collection should be made with metadata file with some metadata prepopulated\n",
    "- Try to create a collection that alread exists -> should return a message and do nothing\n",
    "- Removed metadata file of collection\n",
    "- Try to create a collection when the collection exists but doesn't have a metadata file -> should return a message and create the metadata file"
   ]
  },
  {
   "cell_type": "markdown",
   "id": "28f2394e",
   "metadata": {},
   "source": [
    "For this set of tests, import init and create_collection from datashelf.core. You'll also need os and shutil for directory paths."
   ]
  },
  {
   "cell_type": "code",
   "execution_count": 1,
   "id": "c56b7fe2",
   "metadata": {},
   "outputs": [],
   "source": [
    "from datashelf.core import init, create_collection\n",
    "import os\n",
    "import shutil"
   ]
  },
  {
   "cell_type": "markdown",
   "id": "d2f86c15",
   "metadata": {},
   "source": [
    "First, init a new datashelf. Make sure to run this in your project's root directory (or not, but that's where it makes the most sense!). "
   ]
  },
  {
   "cell_type": "code",
   "execution_count": 2,
   "id": "07593ad7",
   "metadata": {},
   "outputs": [
    {
     "name": "stderr",
     "output_type": "stream",
     "text": [
      "2025-07-20 22:33:58,813 - INFO - .datashelf directory and metadata already initalized.\n"
     ]
    }
   ],
   "source": [
    "# Create datashelf when DNE\n",
    "init()"
   ]
  },
  {
   "cell_type": "markdown",
   "id": "b058decc",
   "metadata": {},
   "source": [
    "init() should return a message telling you that a .datashelf directory already exists if you try to run it in the same directory after already running init()."
   ]
  },
  {
   "cell_type": "code",
   "execution_count": 3,
   "id": "0d00e475",
   "metadata": {},
   "outputs": [
    {
     "name": "stderr",
     "output_type": "stream",
     "text": [
      "2025-07-20 22:34:00,226 - INFO - .datashelf directory and metadata already initalized.\n"
     ]
    }
   ],
   "source": [
    "# Try to init when .datashelf already exists\n",
    "init()"
   ]
  },
  {
   "cell_type": "markdown",
   "id": "0300d3d2",
   "metadata": {},
   "source": [
    "Define a small function to delete a datashelf directory (I should probably add this to a module)."
   ]
  },
  {
   "cell_type": "code",
   "execution_count": 4,
   "id": "1f564e87",
   "metadata": {},
   "outputs": [],
   "source": [
    "def rm_datashelf_dir():\n",
    "    try:\n",
    "        dir_path = os.path.join(os.getcwd(), \".datashelf\")\n",
    "        shutil.rmtree(dir_path)\n",
    "        print(f\"Directory '{dir_path}' and its contents successfully deleted.\")\n",
    "    except OSError as e:\n",
    "        print(f\"Error deleting directory: {e}\")"
   ]
  },
  {
   "cell_type": "markdown",
   "id": "c6ce6b41",
   "metadata": {},
   "source": [
    "Use create_collection() to create a test collection. The folder name of the collection should be all lowercase and should have underscores instead of spaces. It should also automatically generate a YAML metadata file with the name {collection name}_metadata.yaml, with collection name being all lowercase and having underscores instead of spaces."
   ]
  },
  {
   "cell_type": "code",
   "execution_count": 5,
   "id": "0ca397ee",
   "metadata": {},
   "outputs": [
    {
     "name": "stderr",
     "output_type": "stream",
     "text": [
      "2025-07-20 22:34:02,313 - INFO - collection directory: test collection and metadata file test_collection_metadata.yaml created.\n"
     ]
    }
   ],
   "source": [
    "# Create a collection when .datashelf exists - should also populate some basic metadata\n",
    "create_collection(\"test collection\")"
   ]
  },
  {
   "cell_type": "markdown",
   "id": "b59014e9",
   "metadata": {},
   "source": [
    "Now, remove the datashelf directory with the funciton you created above. If you run create_collection now, it should through a TypeError."
   ]
  },
  {
   "cell_type": "code",
   "execution_count": 6,
   "id": "1f7813f5",
   "metadata": {},
   "outputs": [
    {
     "name": "stdout",
     "output_type": "stream",
     "text": [
      "Directory '/Users/rohankrishnan/Documents/GitHub/datashelf/.datashelf' and its contents successfully deleted.\n"
     ]
    },
    {
     "ename": "TypeError",
     "evalue": "stat: path should be string, bytes, os.PathLike or integer, not NoneType",
     "output_type": "error",
     "traceback": [
      "\u001b[0;31m---------------------------------------------------------------------------\u001b[0m",
      "\u001b[0;31mTypeError\u001b[0m                                 Traceback (most recent call last)",
      "Cell \u001b[0;32mIn[6], line 3\u001b[0m\n\u001b[1;32m      1\u001b[0m \u001b[38;5;66;03m# Delete .datashelf and rerun create_collection to confirm that it raises an error - should be a TypeError\u001b[39;00m\n\u001b[1;32m      2\u001b[0m rm_datashelf_dir()\n\u001b[0;32m----> 3\u001b[0m \u001b[43mcreate_collection\u001b[49m\u001b[43m(\u001b[49m\u001b[38;5;124;43m\"\u001b[39;49m\u001b[38;5;124;43mCollection 1\u001b[39;49m\u001b[38;5;124;43m\"\u001b[39;49m\u001b[43m)\u001b[49m\n",
      "File \u001b[0;32m~/Documents/GitHub/datashelf/datashelf/core.py:61\u001b[0m, in \u001b[0;36mcreate_collection\u001b[0;34m(collection_name)\u001b[0m\n\u001b[1;32m     58\u001b[0m datashelf_path \u001b[38;5;241m=\u001b[39m _find_datashelf_root(return_datashelf_path \u001b[38;5;241m=\u001b[39m \u001b[38;5;28;01mTrue\u001b[39;00m)\n\u001b[1;32m     60\u001b[0m \u001b[38;5;66;03m# Check that datashelf has been initialized\u001b[39;00m\n\u001b[0;32m---> 61\u001b[0m \u001b[38;5;28;01mif\u001b[39;00m \u001b[43mos\u001b[49m\u001b[38;5;241;43m.\u001b[39;49m\u001b[43mpath\u001b[49m\u001b[38;5;241;43m.\u001b[39;49m\u001b[43misdir\u001b[49m\u001b[43m(\u001b[49m\u001b[43mdatashelf_path\u001b[49m\u001b[43m)\u001b[49m:\n\u001b[1;32m     62\u001b[0m     \u001b[38;5;28;01mpass\u001b[39;00m\n\u001b[1;32m     63\u001b[0m \u001b[38;5;28;01melse\u001b[39;00m:\n",
      "File \u001b[0;32m~/miniconda3/lib/python3.10/genericpath.py:42\u001b[0m, in \u001b[0;36misdir\u001b[0;34m(s)\u001b[0m\n\u001b[1;32m     40\u001b[0m \u001b[38;5;250m\u001b[39m\u001b[38;5;124;03m\"\"\"Return true if the pathname refers to an existing directory.\"\"\"\u001b[39;00m\n\u001b[1;32m     41\u001b[0m \u001b[38;5;28;01mtry\u001b[39;00m:\n\u001b[0;32m---> 42\u001b[0m     st \u001b[38;5;241m=\u001b[39m \u001b[43mos\u001b[49m\u001b[38;5;241;43m.\u001b[39;49m\u001b[43mstat\u001b[49m\u001b[43m(\u001b[49m\u001b[43ms\u001b[49m\u001b[43m)\u001b[49m\n\u001b[1;32m     43\u001b[0m \u001b[38;5;28;01mexcept\u001b[39;00m (\u001b[38;5;167;01mOSError\u001b[39;00m, \u001b[38;5;167;01mValueError\u001b[39;00m):\n\u001b[1;32m     44\u001b[0m     \u001b[38;5;28;01mreturn\u001b[39;00m \u001b[38;5;28;01mFalse\u001b[39;00m\n",
      "\u001b[0;31mTypeError\u001b[0m: stat: path should be string, bytes, os.PathLike or integer, not NoneType"
     ]
    }
   ],
   "source": [
    "# Delete .datashelf and rerun create_collection to confirm that it raises an error - should be a TypeError\n",
    "rm_datashelf_dir()\n",
    "create_collection(\"Collection 1\")"
   ]
  },
  {
   "cell_type": "markdown",
   "id": "e81dee26",
   "metadata": {},
   "source": [
    "Create a new .datashelf directory and create a new test collection."
   ]
  },
  {
   "cell_type": "code",
   "execution_count": 7,
   "id": "aa2d15c5",
   "metadata": {},
   "outputs": [
    {
     "name": "stderr",
     "output_type": "stream",
     "text": [
      "2025-07-20 22:34:06,331 - INFO - .datashelf directory and metadata initialized\n",
      "2025-07-20 22:34:06,336 - INFO - collection directory: Collection 1 and metadata file collection_1_metadata.yaml created.\n"
     ]
    }
   ],
   "source": [
    "init()\n",
    "create_collection(\"Collection 1\")"
   ]
  },
  {
   "cell_type": "markdown",
   "id": "27e85e71",
   "metadata": {},
   "source": [
    "If you try to create another collection with the same name, you should get a log saying that collection already exists."
   ]
  },
  {
   "cell_type": "code",
   "execution_count": 8,
   "id": "5b7f9c06",
   "metadata": {},
   "outputs": [
    {
     "name": "stderr",
     "output_type": "stream",
     "text": [
      "2025-07-20 22:34:07,460 - INFO - collection already exists at /Users/rohankrishnan/Documents/GitHub/datashelf/.datashelf/collection_1 with metadata file: collection_1_metadata.yaml.\n"
     ]
    }
   ],
   "source": [
    "# Try to create a collection that already exists\n",
    "create_collection(\"Collection 1\")"
   ]
  },
  {
   "cell_type": "markdown",
   "id": "7d3ae77b",
   "metadata": {},
   "source": [
    "Define a function to remove the metadata file of a datashelf collection (idt this is useful outside of testing but I should probably put this function somewhere more permanent). "
   ]
  },
  {
   "cell_type": "code",
   "execution_count": 9,
   "id": "fba182a7",
   "metadata": {},
   "outputs": [],
   "source": [
    "# Function to remove collection metadata.json file\n",
    "def rm_collection_metadata():\n",
    "    if os.path.exists(os.path.join(os.getcwd(), \".datashelf/collection_1/collection_1_metadata.yaml\")):\n",
    "        try:\n",
    "            os.remove(os.path.join(os.getcwd(), \".datashelf/collection_1/collection_1_metadata.yaml\"))\n",
    "            print(f\"Metadata deleted successfully.\")\n",
    "        except Exception as e:\n",
    "            print(f\"An error occured: {e}\")\n",
    "    else:\n",
    "        print(f\"Metadata does not exist.\")"
   ]
  },
  {
   "cell_type": "markdown",
   "id": "3493d203",
   "metadata": {},
   "source": [
    "Test that function works."
   ]
  },
  {
   "cell_type": "code",
   "execution_count": 10,
   "id": "18662529",
   "metadata": {},
   "outputs": [
    {
     "name": "stdout",
     "output_type": "stream",
     "text": [
      "Metadata deleted successfully.\n"
     ]
    }
   ],
   "source": [
    "rm_collection_metadata()\n"
   ]
  },
  {
   "cell_type": "code",
   "execution_count": 11,
   "id": "8edca9d6",
   "metadata": {},
   "outputs": [
    {
     "name": "stdout",
     "output_type": "stream",
     "text": [
      "Metadata does not exist.\n"
     ]
    }
   ],
   "source": [
    "rm_collection_metadata()\n"
   ]
  },
  {
   "cell_type": "markdown",
   "id": "27cb1b5a",
   "metadata": {},
   "source": [
    "If you try to create a collection and create_collection() finds that it already exists but it doesn't have a metadata file (idk when this would be the case), then it will let you know that it exists and just create a new metadata file."
   ]
  },
  {
   "cell_type": "code",
   "execution_count": 12,
   "id": "02d795f6",
   "metadata": {},
   "outputs": [
    {
     "name": "stderr",
     "output_type": "stream",
     "text": [
      "2025-07-20 22:34:13,406 - INFO - collection directory: Collection 1 exists but does not have a metadata file.\n",
      "Creating collection_1_metadata.yaml...\n",
      "2025-07-20 22:34:13,409 - INFO - Metadata file: collection_1_metadata.yaml created in /Users/rohankrishnan/Documents/GitHub/datashelf/.datashelf/collection_1.\n"
     ]
    }
   ],
   "source": [
    "# Try to create a collection when collection exists but doesn't have metadata file - should also populate with basic metadata\n",
    "create_collection(\"Collection 1\")"
   ]
  },
  {
   "cell_type": "code",
   "execution_count": null,
   "id": "885cd37d",
   "metadata": {},
   "outputs": [],
   "source": []
  }
 ],
 "metadata": {
  "kernelspec": {
   "display_name": ".venv",
   "language": "python",
   "name": "python3"
  },
  "language_info": {
   "codemirror_mode": {
    "name": "ipython",
    "version": 3
   },
   "file_extension": ".py",
   "mimetype": "text/x-python",
   "name": "python",
   "nbconvert_exporter": "python",
   "pygments_lexer": "ipython3",
   "version": "3.10.10"
  }
 },
 "nbformat": 4,
 "nbformat_minor": 5
}
