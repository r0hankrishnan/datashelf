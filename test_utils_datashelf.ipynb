{
 "cells": [
  {
   "cell_type": "code",
   "execution_count": null,
   "id": "4d91eb51",
   "metadata": {},
   "outputs": [],
   "source": [
    "from datashelf.utils.shelf import _make_datashelf_metadata_structure"
   ]
  },
  {
   "cell_type": "code",
   "execution_count": null,
   "id": "7e0b5935",
   "metadata": {},
   "outputs": [],
   "source": [
    "_make_datashelf_metadata_structure() #Worked as intended"
   ]
  },
  {
   "cell_type": "code",
   "execution_count": null,
   "id": "6fe7f194",
   "metadata": {},
   "outputs": [],
   "source": []
  }
 ],
 "metadata": {
  "kernelspec": {
   "display_name": ".venv",
   "language": "python",
   "name": "python3"
  },
  "language_info": {
   "codemirror_mode": {
    "name": "ipython",
    "version": 3
   },
   "file_extension": ".py",
   "mimetype": "text/x-python",
   "name": "python",
   "nbconvert_exporter": "python",
   "pygments_lexer": "ipython3",
   "version": "3.10.10"
  }
 },
 "nbformat": 4,
 "nbformat_minor": 5
}
