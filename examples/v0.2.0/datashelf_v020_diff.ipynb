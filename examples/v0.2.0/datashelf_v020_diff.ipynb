{
 "cells": [
  {
   "cell_type": "code",
   "execution_count": 3,
   "id": "c9e85bd9",
   "metadata": {},
   "outputs": [],
   "source": [
    "import datashelf.core as ds\n",
    "import pandas as pd"
   ]
  },
  {
   "cell_type": "code",
   "execution_count": 4,
   "id": "736911b2",
   "metadata": {},
   "outputs": [
    {
     "data": {
      "text/html": [
       "<pre style=\"white-space:pre;overflow-x:auto;line-height:normal;font-family:Menlo,'DejaVu Sans Mono',consolas,'Courier New',monospace\">┏━━━━━━━━━━━━━━━━━━━━━━━━┳━━━━━━━━━━━━━━━━━━━━━━━━┳━━━━━━━━━━━━━━━━━━━━━┳━━━━━━━━━━━━━━━━━━━━━┳━━━━━━━━━━━━━━━━━┳━━━━━━━━━━━━━━━━━┳━━━━━━━━━━━━━━━━━━━━━━━━━┳━━━━━━━━━━━━━━━━━━━━━━━━┳━━━━━━━━━━━━━━━━━┓\n",
       "┃<span style=\"color: #a5b4fc; text-decoration-color: #a5b4fc; font-weight: bold\"> name                   </span>┃<span style=\"color: #a5b4fc; text-decoration-color: #a5b4fc; font-weight: bold\"> hash                   </span>┃<span style=\"color: #a5b4fc; text-decoration-color: #a5b4fc; font-weight: bold\"> date_created        </span>┃<span style=\"color: #a5b4fc; text-decoration-color: #a5b4fc; font-weight: bold\"> date_last_modified  </span>┃<span style=\"color: #a5b4fc; text-decoration-color: #a5b4fc; font-weight: bold\"> tag             </span>┃<span style=\"color: #a5b4fc; text-decoration-color: #a5b4fc; font-weight: bold\"> version         </span>┃<span style=\"color: #a5b4fc; text-decoration-color: #a5b4fc; font-weight: bold\"> message                 </span>┃<span style=\"color: #a5b4fc; text-decoration-color: #a5b4fc; font-weight: bold\"> file_path              </span>┃<span style=\"color: #a5b4fc; text-decoration-color: #a5b4fc; font-weight: bold\"> deleted         </span>┃\n",
       "┡━━━━━━━━━━━━━━━━━━━━━━━━╇━━━━━━━━━━━━━━━━━━━━━━━━╇━━━━━━━━━━━━━━━━━━━━━╇━━━━━━━━━━━━━━━━━━━━━╇━━━━━━━━━━━━━━━━━╇━━━━━━━━━━━━━━━━━╇━━━━━━━━━━━━━━━━━━━━━━━━━╇━━━━━━━━━━━━━━━━━━━━━━━━╇━━━━━━━━━━━━━━━━━┩\n",
       "│ sales_analysis_q4_meta │                        │ 2025-07-31 00:38:18 │                     │                 │                 │                         │ /Users/rohankrishnan/D │ False           │\n",
       "│ data.yaml              │                        │                     │                     │                 │                 │                         │ ocuments/GitHub/datash │                 │\n",
       "│                        │                        │                     │                     │                 │                 │                         │ elf/examples/v0.2.0/.d │                 │\n",
       "│                        │                        │                     │                     │                 │                 │                         │ atashelf/sales_analysi │                 │\n",
       "│                        │                        │                     │                     │                 │                 │                         │ s_q4/sales_analysis_q4 │                 │\n",
       "│                        │                        │                     │                     │                 │                 │                         │ _metadata.yaml         │                 │\n",
       "├────────────────────────┼────────────────────────┼─────────────────────┼─────────────────────┼─────────────────┼─────────────────┼─────────────────────────┼────────────────────────┼─────────────────┤\n",
       "│ Quarterly Sales        │ 9d77eabf6b934ce8e75974 │ 2025-07-31 00:38:18 │ 2025-07-31 00:38:18 │ raw             │ 1               │ Initial Q4  sales data  │ /Users/rohankrishnan/D │ False           │\n",
       "│                        │ 2429021d0afeb2ccaa339c │                     │                     │                 │                 │ from database export    │ ocuments/GitHub/datash │                 │\n",
       "│                        │ 2db35ea4c96fdf96ff3f   │                     │                     │                 │                 │                         │ elf/examples/v0.2.0/.d │                 │\n",
       "│                        │                        │                     │                     │                 │                 │                         │ atashelf/sales_analysi │                 │\n",
       "│                        │                        │                     │                     │                 │                 │                         │ s_q4/quarterly_sales_r │                 │\n",
       "│                        │                        │                     │                     │                 │                 │                         │ aw.csv                 │                 │\n",
       "├────────────────────────┼────────────────────────┼─────────────────────┼─────────────────────┼─────────────────┼─────────────────┼─────────────────────────┼────────────────────────┼─────────────────┤\n",
       "│ quarterly_sales        │ 3976e38c4a19642f63ba16 │ 2025-07-31 00:38:18 │ 2025-07-31 00:38:18 │ intermediate    │ 2               │ Added revenue           │ /Users/rohankrishnan/D │ False           │\n",
       "│                        │ bb786b1eefe40313040e2e │                     │                     │                 │                 │ calculations and price  │ ocuments/GitHub/datash │                 │\n",
       "│                        │ 907830a4dc4205d12a10   │                     │                     │                 │                 │ categorization          │ elf/examples/v0.2.0/.d │                 │\n",
       "│                        │                        │                     │                     │                 │                 │                         │ atashelf/sales_analysi │                 │\n",
       "│                        │                        │                     │                     │                 │                 │                         │ s_q4/quarterly_sales_i │                 │\n",
       "│                        │                        │                     │                     │                 │                 │                         │ ntermediate.csv        │                 │\n",
       "├────────────────────────┼────────────────────────┼─────────────────────┼─────────────────────┼─────────────────┼─────────────────┼─────────────────────────┼────────────────────────┼─────────────────┤\n",
       "│ category_summary       │ 887054aa634c5fc4fc6b4c │ 2025-07-31 00:38:18 │ 2025-07-31 00:38:18 │ final           │ 3               │ Final category-level    │ /Users/rohankrishnan/D │ False           │\n",
       "│                        │ 9e097f29d69d252902c420 │                     │                     │                 │                 │ summary for Q4 report   │ ocuments/GitHub/datash │                 │\n",
       "│                        │ 99832d8497a85aae333f   │                     │                     │                 │                 │                         │ elf/examples/v0.2.0/.d │                 │\n",
       "│                        │                        │                     │                     │                 │                 │                         │ atashelf/sales_analysi │                 │\n",
       "│                        │                        │                     │                     │                 │                 │                         │ s_q4/category_summary_ │                 │\n",
       "│                        │                        │                     │                     │                 │                 │                         │ final.csv              │                 │\n",
       "├────────────────────────┼────────────────────────┼─────────────────────┼─────────────────────┼─────────────────┼─────────────────┼─────────────────────────┼────────────────────────┼─────────────────┤\n",
       "│ 100 Sales Records      │ 022200764ada70f564cd12 │ 2025-07-31 00:41:04 │ 2025-07-31 00:41:04 │ ad-hoc          │ 4               │ This is a test save of  │ /Users/rohankrishnan/D │ False           │\n",
       "│                        │ 5fa96a548d33ca4d3cdd4d │                     │                     │                 │                 │ a file using the CLI. I │ ocuments/GitHub/datash │                 │\n",
       "│                        │ 3569b045f8aa2972045b   │                     │                     │                 │                 │ used the -d flag so the │ elf/examples/v0.2.0/.d │                 │\n",
       "│                        │                        │                     │                     │                 │                 │ file should be          │ atashelf/sales_analysi │                 │\n",
       "│                        │                        │                     │                     │                 │                 │ duplicated instead of   │ s_q4/100_sales_records │                 │\n",
       "│                        │                        │                     │                     │                 │                 │ moved.                  │ _ad-hoc.csv            │                 │\n",
       "├────────────────────────┼────────────────────────┼─────────────────────┼─────────────────────┼─────────────────┼─────────────────┼─────────────────────────┼────────────────────────┼─────────────────┤\n",
       "│ 1000 Sales Records     │ 748a56f33c42ada9487c51 │ 2025-07-31 00:42:14 │ 2025-07-31 00:42:14 │ ad-hoc          │ 5               │ This is a test save of  │ /Users/rohankrishnan/D │ False           │\n",
       "│                        │ 552160f94f129ed3469848 │                     │                     │                 │                 │ a file using the CLI. I │ ocuments/GitHub/datash │                 │\n",
       "│                        │ c0ca31a62d3176b08ea7   │                     │                     │                 │                 │ didn't use the -d flag  │ elf/examples/v0.2.0/.d │                 │\n",
       "│                        │                        │                     │                     │                 │                 │ so the file should be   │ atashelf/sales_analysi │                 │\n",
       "│                        │                        │                     │                     │                 │                 │ moved and not           │ s_q4/1000_sales_record │                 │\n",
       "│                        │                        │                     │                     │                 │                 │ duplicated.             │ s_ad-hoc.csv           │                 │\n",
       "└────────────────────────┴────────────────────────┴─────────────────────┴─────────────────────┴─────────────────┴─────────────────┴─────────────────────────┴────────────────────────┴─────────────────┘\n",
       "</pre>\n"
      ],
      "text/plain": [
       "┏━━━━━━━━━━━━━━━━━━━━━━━━┳━━━━━━━━━━━━━━━━━━━━━━━━┳━━━━━━━━━━━━━━━━━━━━━┳━━━━━━━━━━━━━━━━━━━━━┳━━━━━━━━━━━━━━━━━┳━━━━━━━━━━━━━━━━━┳━━━━━━━━━━━━━━━━━━━━━━━━━┳━━━━━━━━━━━━━━━━━━━━━━━━┳━━━━━━━━━━━━━━━━━┓\n",
       "┃\u001b[1;38;2;165;180;252m \u001b[0m\u001b[1;38;2;165;180;252mname                  \u001b[0m\u001b[1;38;2;165;180;252m \u001b[0m┃\u001b[1;38;2;165;180;252m \u001b[0m\u001b[1;38;2;165;180;252mhash                  \u001b[0m\u001b[1;38;2;165;180;252m \u001b[0m┃\u001b[1;38;2;165;180;252m \u001b[0m\u001b[1;38;2;165;180;252mdate_created       \u001b[0m\u001b[1;38;2;165;180;252m \u001b[0m┃\u001b[1;38;2;165;180;252m \u001b[0m\u001b[1;38;2;165;180;252mdate_last_modified \u001b[0m\u001b[1;38;2;165;180;252m \u001b[0m┃\u001b[1;38;2;165;180;252m \u001b[0m\u001b[1;38;2;165;180;252mtag            \u001b[0m\u001b[1;38;2;165;180;252m \u001b[0m┃\u001b[1;38;2;165;180;252m \u001b[0m\u001b[1;38;2;165;180;252mversion        \u001b[0m\u001b[1;38;2;165;180;252m \u001b[0m┃\u001b[1;38;2;165;180;252m \u001b[0m\u001b[1;38;2;165;180;252mmessage                \u001b[0m\u001b[1;38;2;165;180;252m \u001b[0m┃\u001b[1;38;2;165;180;252m \u001b[0m\u001b[1;38;2;165;180;252mfile_path             \u001b[0m\u001b[1;38;2;165;180;252m \u001b[0m┃\u001b[1;38;2;165;180;252m \u001b[0m\u001b[1;38;2;165;180;252mdeleted        \u001b[0m\u001b[1;38;2;165;180;252m \u001b[0m┃\n",
       "┡━━━━━━━━━━━━━━━━━━━━━━━━╇━━━━━━━━━━━━━━━━━━━━━━━━╇━━━━━━━━━━━━━━━━━━━━━╇━━━━━━━━━━━━━━━━━━━━━╇━━━━━━━━━━━━━━━━━╇━━━━━━━━━━━━━━━━━╇━━━━━━━━━━━━━━━━━━━━━━━━━╇━━━━━━━━━━━━━━━━━━━━━━━━╇━━━━━━━━━━━━━━━━━┩\n",
       "│ sales_analysis_q4_meta │                        │ 2025-07-31 00:38:18 │                     │                 │                 │                         │ /Users/rohankrishnan/D │ False           │\n",
       "│ data.yaml              │                        │                     │                     │                 │                 │                         │ ocuments/GitHub/datash │                 │\n",
       "│                        │                        │                     │                     │                 │                 │                         │ elf/examples/v0.2.0/.d │                 │\n",
       "│                        │                        │                     │                     │                 │                 │                         │ atashelf/sales_analysi │                 │\n",
       "│                        │                        │                     │                     │                 │                 │                         │ s_q4/sales_analysis_q4 │                 │\n",
       "│                        │                        │                     │                     │                 │                 │                         │ _metadata.yaml         │                 │\n",
       "├────────────────────────┼────────────────────────┼─────────────────────┼─────────────────────┼─────────────────┼─────────────────┼─────────────────────────┼────────────────────────┼─────────────────┤\n",
       "│ Quarterly Sales        │ 9d77eabf6b934ce8e75974 │ 2025-07-31 00:38:18 │ 2025-07-31 00:38:18 │ raw             │ 1               │ Initial Q4  sales data  │ /Users/rohankrishnan/D │ False           │\n",
       "│                        │ 2429021d0afeb2ccaa339c │                     │                     │                 │                 │ from database export    │ ocuments/GitHub/datash │                 │\n",
       "│                        │ 2db35ea4c96fdf96ff3f   │                     │                     │                 │                 │                         │ elf/examples/v0.2.0/.d │                 │\n",
       "│                        │                        │                     │                     │                 │                 │                         │ atashelf/sales_analysi │                 │\n",
       "│                        │                        │                     │                     │                 │                 │                         │ s_q4/quarterly_sales_r │                 │\n",
       "│                        │                        │                     │                     │                 │                 │                         │ aw.csv                 │                 │\n",
       "├────────────────────────┼────────────────────────┼─────────────────────┼─────────────────────┼─────────────────┼─────────────────┼─────────────────────────┼────────────────────────┼─────────────────┤\n",
       "│ quarterly_sales        │ 3976e38c4a19642f63ba16 │ 2025-07-31 00:38:18 │ 2025-07-31 00:38:18 │ intermediate    │ 2               │ Added revenue           │ /Users/rohankrishnan/D │ False           │\n",
       "│                        │ bb786b1eefe40313040e2e │                     │                     │                 │                 │ calculations and price  │ ocuments/GitHub/datash │                 │\n",
       "│                        │ 907830a4dc4205d12a10   │                     │                     │                 │                 │ categorization          │ elf/examples/v0.2.0/.d │                 │\n",
       "│                        │                        │                     │                     │                 │                 │                         │ atashelf/sales_analysi │                 │\n",
       "│                        │                        │                     │                     │                 │                 │                         │ s_q4/quarterly_sales_i │                 │\n",
       "│                        │                        │                     │                     │                 │                 │                         │ ntermediate.csv        │                 │\n",
       "├────────────────────────┼────────────────────────┼─────────────────────┼─────────────────────┼─────────────────┼─────────────────┼─────────────────────────┼────────────────────────┼─────────────────┤\n",
       "│ category_summary       │ 887054aa634c5fc4fc6b4c │ 2025-07-31 00:38:18 │ 2025-07-31 00:38:18 │ final           │ 3               │ Final category-level    │ /Users/rohankrishnan/D │ False           │\n",
       "│                        │ 9e097f29d69d252902c420 │                     │                     │                 │                 │ summary for Q4 report   │ ocuments/GitHub/datash │                 │\n",
       "│                        │ 99832d8497a85aae333f   │                     │                     │                 │                 │                         │ elf/examples/v0.2.0/.d │                 │\n",
       "│                        │                        │                     │                     │                 │                 │                         │ atashelf/sales_analysi │                 │\n",
       "│                        │                        │                     │                     │                 │                 │                         │ s_q4/category_summary_ │                 │\n",
       "│                        │                        │                     │                     │                 │                 │                         │ final.csv              │                 │\n",
       "├────────────────────────┼────────────────────────┼─────────────────────┼─────────────────────┼─────────────────┼─────────────────┼─────────────────────────┼────────────────────────┼─────────────────┤\n",
       "│ 100 Sales Records      │ 022200764ada70f564cd12 │ 2025-07-31 00:41:04 │ 2025-07-31 00:41:04 │ ad-hoc          │ 4               │ This is a test save of  │ /Users/rohankrishnan/D │ False           │\n",
       "│                        │ 5fa96a548d33ca4d3cdd4d │                     │                     │                 │                 │ a file using the CLI. I │ ocuments/GitHub/datash │                 │\n",
       "│                        │ 3569b045f8aa2972045b   │                     │                     │                 │                 │ used the -d flag so the │ elf/examples/v0.2.0/.d │                 │\n",
       "│                        │                        │                     │                     │                 │                 │ file should be          │ atashelf/sales_analysi │                 │\n",
       "│                        │                        │                     │                     │                 │                 │ duplicated instead of   │ s_q4/100_sales_records │                 │\n",
       "│                        │                        │                     │                     │                 │                 │ moved.                  │ _ad-hoc.csv            │                 │\n",
       "├────────────────────────┼────────────────────────┼─────────────────────┼─────────────────────┼─────────────────┼─────────────────┼─────────────────────────┼────────────────────────┼─────────────────┤\n",
       "│ 1000 Sales Records     │ 748a56f33c42ada9487c51 │ 2025-07-31 00:42:14 │ 2025-07-31 00:42:14 │ ad-hoc          │ 5               │ This is a test save of  │ /Users/rohankrishnan/D │ False           │\n",
       "│                        │ 552160f94f129ed3469848 │                     │                     │                 │                 │ a file using the CLI. I │ ocuments/GitHub/datash │                 │\n",
       "│                        │ c0ca31a62d3176b08ea7   │                     │                     │                 │                 │ didn't use the -d flag  │ elf/examples/v0.2.0/.d │                 │\n",
       "│                        │                        │                     │                     │                 │                 │ so the file should be   │ atashelf/sales_analysi │                 │\n",
       "│                        │                        │                     │                     │                 │                 │ moved and not           │ s_q4/1000_sales_record │                 │\n",
       "│                        │                        │                     │                     │                 │                 │ duplicated.             │ s_ad-hoc.csv           │                 │\n",
       "└────────────────────────┴────────────────────────┴─────────────────────┴─────────────────────┴─────────────────┴─────────────────┴─────────────────────────┴────────────────────────┴─────────────────┘\n"
      ]
     },
     "metadata": {},
     "output_type": "display_data"
    }
   ],
   "source": [
    "ds.ls(to_display=\"coll-files\", collection_name=\"sales analysis q4\")"
   ]
  },
  {
   "cell_type": "code",
   "execution_count": 3,
   "id": "f0438de7",
   "metadata": {},
   "outputs": [],
   "source": [
    "raw_df = ds.load(\n",
    "    collection_name=\"sales analysis q4\",\n",
    "    hash_value=\"9d77eabf6b934ce8e759742429021d0afeb2ccaa339c2db35ea4c96fdf96ff3f\"\n",
    ")\n",
    "\n",
    "int_df = ds.load(\n",
    "    collection_name=\"sales analysis q4\",\n",
    "    hash_value=\"3976e38c4a19642f63ba16bb786b1eefe40313040e2e907830a4dc4205d12a10\"\n",
    ")"
   ]
  },
  {
   "cell_type": "code",
   "execution_count": 4,
   "id": "7cdddc70",
   "metadata": {},
   "outputs": [
    {
     "data": {
      "application/vnd.microsoft.datawrangler.viewer.v0+json": {
       "columns": [
        {
         "name": "index",
         "rawType": "int64",
         "type": "integer"
        },
        {
         "name": "product_id",
         "rawType": "object",
         "type": "string"
        },
        {
         "name": "product_name",
         "rawType": "object",
         "type": "string"
        },
        {
         "name": "category",
         "rawType": "object",
         "type": "string"
        },
        {
         "name": "units_sold",
         "rawType": "int64",
         "type": "integer"
        },
        {
         "name": "unit_price",
         "rawType": "float64",
         "type": "float"
        },
        {
         "name": "region",
         "rawType": "object",
         "type": "string"
        }
       ],
       "ref": "8d33f597-c8fb-48b8-bca5-3e249cb391d8",
       "rows": [
        [
         "0",
         "P001",
         "Widget A",
         "Electronics",
         "150",
         "25.99",
         "North"
        ],
        [
         "1",
         "P002",
         "Widget B",
         "Home",
         "200",
         "45.5",
         "South"
        ],
        [
         "2",
         "P003",
         "Widget C",
         "Electronics",
         "75",
         "15.0",
         "East"
        ],
        [
         "3",
         "P004",
         "Widget D",
         "Sports",
         "300",
         "60.0",
         "West"
        ],
        [
         "4",
         "P005",
         "Widget E",
         "Home",
         "120",
         "35.75",
         "North"
        ]
       ],
       "shape": {
        "columns": 6,
        "rows": 5
       }
      },
      "text/html": [
       "<div>\n",
       "<style scoped>\n",
       "    .dataframe tbody tr th:only-of-type {\n",
       "        vertical-align: middle;\n",
       "    }\n",
       "\n",
       "    .dataframe tbody tr th {\n",
       "        vertical-align: top;\n",
       "    }\n",
       "\n",
       "    .dataframe thead th {\n",
       "        text-align: right;\n",
       "    }\n",
       "</style>\n",
       "<table border=\"1\" class=\"dataframe\">\n",
       "  <thead>\n",
       "    <tr style=\"text-align: right;\">\n",
       "      <th></th>\n",
       "      <th>product_id</th>\n",
       "      <th>product_name</th>\n",
       "      <th>category</th>\n",
       "      <th>units_sold</th>\n",
       "      <th>unit_price</th>\n",
       "      <th>region</th>\n",
       "    </tr>\n",
       "  </thead>\n",
       "  <tbody>\n",
       "    <tr>\n",
       "      <th>0</th>\n",
       "      <td>P001</td>\n",
       "      <td>Widget A</td>\n",
       "      <td>Electronics</td>\n",
       "      <td>150</td>\n",
       "      <td>25.99</td>\n",
       "      <td>North</td>\n",
       "    </tr>\n",
       "    <tr>\n",
       "      <th>1</th>\n",
       "      <td>P002</td>\n",
       "      <td>Widget B</td>\n",
       "      <td>Home</td>\n",
       "      <td>200</td>\n",
       "      <td>45.50</td>\n",
       "      <td>South</td>\n",
       "    </tr>\n",
       "    <tr>\n",
       "      <th>2</th>\n",
       "      <td>P003</td>\n",
       "      <td>Widget C</td>\n",
       "      <td>Electronics</td>\n",
       "      <td>75</td>\n",
       "      <td>15.00</td>\n",
       "      <td>East</td>\n",
       "    </tr>\n",
       "    <tr>\n",
       "      <th>3</th>\n",
       "      <td>P004</td>\n",
       "      <td>Widget D</td>\n",
       "      <td>Sports</td>\n",
       "      <td>300</td>\n",
       "      <td>60.00</td>\n",
       "      <td>West</td>\n",
       "    </tr>\n",
       "    <tr>\n",
       "      <th>4</th>\n",
       "      <td>P005</td>\n",
       "      <td>Widget E</td>\n",
       "      <td>Home</td>\n",
       "      <td>120</td>\n",
       "      <td>35.75</td>\n",
       "      <td>North</td>\n",
       "    </tr>\n",
       "  </tbody>\n",
       "</table>\n",
       "</div>"
      ],
      "text/plain": [
       "  product_id product_name     category  units_sold  unit_price region\n",
       "0       P001     Widget A  Electronics         150       25.99  North\n",
       "1       P002     Widget B         Home         200       45.50  South\n",
       "2       P003     Widget C  Electronics          75       15.00   East\n",
       "3       P004     Widget D       Sports         300       60.00   West\n",
       "4       P005     Widget E         Home         120       35.75  North"
      ]
     },
     "execution_count": 4,
     "metadata": {},
     "output_type": "execute_result"
    }
   ],
   "source": [
    "raw_df"
   ]
  },
  {
   "cell_type": "code",
   "execution_count": 5,
   "id": "948d98b4",
   "metadata": {},
   "outputs": [
    {
     "data": {
      "application/vnd.microsoft.datawrangler.viewer.v0+json": {
       "columns": [
        {
         "name": "index",
         "rawType": "int64",
         "type": "integer"
        },
        {
         "name": "product_id",
         "rawType": "object",
         "type": "string"
        },
        {
         "name": "product_name",
         "rawType": "object",
         "type": "string"
        },
        {
         "name": "category",
         "rawType": "object",
         "type": "string"
        },
        {
         "name": "units_sold",
         "rawType": "int64",
         "type": "integer"
        },
        {
         "name": "unit_price",
         "rawType": "float64",
         "type": "float"
        },
        {
         "name": "region",
         "rawType": "object",
         "type": "string"
        },
        {
         "name": "total_revenue",
         "rawType": "float64",
         "type": "float"
        },
        {
         "name": "revenue_per_unit",
         "rawType": "float64",
         "type": "float"
        },
        {
         "name": "price_category",
         "rawType": "object",
         "type": "string"
        }
       ],
       "ref": "d9d2b62a-b1f2-454a-937c-4b68f7739321",
       "rows": [
        [
         "0",
         "P001",
         "Widget A",
         "Electronics",
         "150",
         "25.99",
         "North",
         "3898.5",
         "25.99",
         "Low"
        ],
        [
         "1",
         "P002",
         "Widget B",
         "Home",
         "200",
         "45.5",
         "South",
         "9100.0",
         "45.5",
         "Medium"
        ],
        [
         "2",
         "P003",
         "Widget C",
         "Electronics",
         "75",
         "15.0",
         "East",
         "1125.0",
         "15.0",
         "Low"
        ],
        [
         "3",
         "P004",
         "Widget D",
         "Sports",
         "300",
         "60.0",
         "West",
         "18000.0",
         "60.0",
         "High"
        ],
        [
         "4",
         "P005",
         "Widget E",
         "Home",
         "120",
         "35.75",
         "North",
         "4290.0",
         "35.75",
         "Medium"
        ]
       ],
       "shape": {
        "columns": 9,
        "rows": 5
       }
      },
      "text/html": [
       "<div>\n",
       "<style scoped>\n",
       "    .dataframe tbody tr th:only-of-type {\n",
       "        vertical-align: middle;\n",
       "    }\n",
       "\n",
       "    .dataframe tbody tr th {\n",
       "        vertical-align: top;\n",
       "    }\n",
       "\n",
       "    .dataframe thead th {\n",
       "        text-align: right;\n",
       "    }\n",
       "</style>\n",
       "<table border=\"1\" class=\"dataframe\">\n",
       "  <thead>\n",
       "    <tr style=\"text-align: right;\">\n",
       "      <th></th>\n",
       "      <th>product_id</th>\n",
       "      <th>product_name</th>\n",
       "      <th>category</th>\n",
       "      <th>units_sold</th>\n",
       "      <th>unit_price</th>\n",
       "      <th>region</th>\n",
       "      <th>total_revenue</th>\n",
       "      <th>revenue_per_unit</th>\n",
       "      <th>price_category</th>\n",
       "    </tr>\n",
       "  </thead>\n",
       "  <tbody>\n",
       "    <tr>\n",
       "      <th>0</th>\n",
       "      <td>P001</td>\n",
       "      <td>Widget A</td>\n",
       "      <td>Electronics</td>\n",
       "      <td>150</td>\n",
       "      <td>25.99</td>\n",
       "      <td>North</td>\n",
       "      <td>3898.5</td>\n",
       "      <td>25.99</td>\n",
       "      <td>Low</td>\n",
       "    </tr>\n",
       "    <tr>\n",
       "      <th>1</th>\n",
       "      <td>P002</td>\n",
       "      <td>Widget B</td>\n",
       "      <td>Home</td>\n",
       "      <td>200</td>\n",
       "      <td>45.50</td>\n",
       "      <td>South</td>\n",
       "      <td>9100.0</td>\n",
       "      <td>45.50</td>\n",
       "      <td>Medium</td>\n",
       "    </tr>\n",
       "    <tr>\n",
       "      <th>2</th>\n",
       "      <td>P003</td>\n",
       "      <td>Widget C</td>\n",
       "      <td>Electronics</td>\n",
       "      <td>75</td>\n",
       "      <td>15.00</td>\n",
       "      <td>East</td>\n",
       "      <td>1125.0</td>\n",
       "      <td>15.00</td>\n",
       "      <td>Low</td>\n",
       "    </tr>\n",
       "    <tr>\n",
       "      <th>3</th>\n",
       "      <td>P004</td>\n",
       "      <td>Widget D</td>\n",
       "      <td>Sports</td>\n",
       "      <td>300</td>\n",
       "      <td>60.00</td>\n",
       "      <td>West</td>\n",
       "      <td>18000.0</td>\n",
       "      <td>60.00</td>\n",
       "      <td>High</td>\n",
       "    </tr>\n",
       "    <tr>\n",
       "      <th>4</th>\n",
       "      <td>P005</td>\n",
       "      <td>Widget E</td>\n",
       "      <td>Home</td>\n",
       "      <td>120</td>\n",
       "      <td>35.75</td>\n",
       "      <td>North</td>\n",
       "      <td>4290.0</td>\n",
       "      <td>35.75</td>\n",
       "      <td>Medium</td>\n",
       "    </tr>\n",
       "  </tbody>\n",
       "</table>\n",
       "</div>"
      ],
      "text/plain": [
       "  product_id product_name     category  units_sold  unit_price region  \\\n",
       "0       P001     Widget A  Electronics         150       25.99  North   \n",
       "1       P002     Widget B         Home         200       45.50  South   \n",
       "2       P003     Widget C  Electronics          75       15.00   East   \n",
       "3       P004     Widget D       Sports         300       60.00   West   \n",
       "4       P005     Widget E         Home         120       35.75  North   \n",
       "\n",
       "   total_revenue  revenue_per_unit price_category  \n",
       "0         3898.5             25.99            Low  \n",
       "1         9100.0             45.50         Medium  \n",
       "2         1125.0             15.00            Low  \n",
       "3        18000.0             60.00           High  \n",
       "4         4290.0             35.75         Medium  "
      ]
     },
     "execution_count": 5,
     "metadata": {},
     "output_type": "execute_result"
    }
   ],
   "source": [
    "int_df"
   ]
  },
  {
   "cell_type": "code",
   "execution_count": 6,
   "id": "ead0e150",
   "metadata": {},
   "outputs": [
    {
     "data": {
      "text/plain": [
       "-3"
      ]
     },
     "execution_count": 6,
     "metadata": {},
     "output_type": "execute_result"
    }
   ],
   "source": [
    "raw_cols_len = len(raw_df.columns)\n",
    "int_cols_len = len(int_df.columns)\n",
    "\n",
    "cols_diff_len = raw_cols_len - int_cols_len; cols_diff_len"
   ]
  },
  {
   "cell_type": "code",
   "execution_count": 7,
   "id": "85e82c6c",
   "metadata": {},
   "outputs": [
    {
     "data": {
      "text/plain": [
       "({'price_category', 'revenue_per_unit', 'total_revenue'},\n",
       " {'category',\n",
       "  'price_category',\n",
       "  'product_id',\n",
       "  'product_name',\n",
       "  'region',\n",
       "  'revenue_per_unit',\n",
       "  'total_revenue',\n",
       "  'unit_price',\n",
       "  'units_sold'},\n",
       " {'category',\n",
       "  'product_id',\n",
       "  'product_name',\n",
       "  'region',\n",
       "  'unit_price',\n",
       "  'units_sold'})"
      ]
     },
     "execution_count": 7,
     "metadata": {},
     "output_type": "execute_result"
    }
   ],
   "source": [
    "raw_cols = set(raw_df.columns)\n",
    "int_cols = set(int_df.columns)\n",
    "\n",
    "cols_diff = int_cols - raw_cols; cols_diff, int_cols, raw_cols"
   ]
  },
  {
   "cell_type": "code",
   "execution_count": 8,
   "id": "d6ad4955",
   "metadata": {},
   "outputs": [
    {
     "data": {
      "text/plain": [
       "(5, 6)"
      ]
     },
     "execution_count": 8,
     "metadata": {},
     "output_type": "execute_result"
    }
   ],
   "source": [
    "raw_df.shape"
   ]
  },
  {
   "cell_type": "code",
   "execution_count": 9,
   "id": "d383ae98",
   "metadata": {},
   "outputs": [
    {
     "data": {
      "text/plain": [
       "0"
      ]
     },
     "execution_count": 9,
     "metadata": {},
     "output_type": "execute_result"
    }
   ],
   "source": [
    "raw_rows_len = raw_df.shape[0]\n",
    "int_rows_len = int_df.shape[0]\n",
    "cols_rows_diff_len = raw_rows_len - int_rows_len; cols_rows_diff_len"
   ]
  },
  {
   "cell_type": "code",
   "execution_count": 10,
   "id": "78be1bf1",
   "metadata": {},
   "outputs": [
    {
     "ename": "ValueError",
     "evalue": "Can only compare identically-labeled (both index and columns) DataFrame objects",
     "output_type": "error",
     "traceback": [
      "\u001b[0;31m---------------------------------------------------------------------------\u001b[0m",
      "\u001b[0;31mValueError\u001b[0m                                Traceback (most recent call last)",
      "\u001b[0;32m/var/folders/hz/qryn97wj0_d33crxxrwm28t80000gn/T/ipykernel_716/3278882044.py\u001b[0m in \u001b[0;36m?\u001b[0;34m()\u001b[0m\n\u001b[0;32m----> 1\u001b[0;31m \u001b[0mraw_df\u001b[0m\u001b[0;34m.\u001b[0m\u001b[0mcompare\u001b[0m\u001b[0;34m(\u001b[0m\u001b[0mint_df\u001b[0m\u001b[0;34m,\u001b[0m \u001b[0malign_axis\u001b[0m\u001b[0;34m=\u001b[0m\u001b[0;36m0\u001b[0m\u001b[0;34m)\u001b[0m\u001b[0;34m\u001b[0m\u001b[0;34m\u001b[0m\u001b[0m\n\u001b[0m",
      "\u001b[0;32m~/Documents/GitHub/datashelf/.venv/lib/python3.10/site-packages/pandas/core/frame.py\u001b[0m in \u001b[0;36m?\u001b[0;34m(self, other, align_axis, keep_shape, keep_equal, result_names)\u001b[0m\n\u001b[1;32m   8596\u001b[0m         \u001b[0mkeep_shape\u001b[0m\u001b[0;34m:\u001b[0m \u001b[0mbool\u001b[0m \u001b[0;34m=\u001b[0m \u001b[0;32mFalse\u001b[0m\u001b[0;34m,\u001b[0m\u001b[0;34m\u001b[0m\u001b[0;34m\u001b[0m\u001b[0m\n\u001b[1;32m   8597\u001b[0m         \u001b[0mkeep_equal\u001b[0m\u001b[0;34m:\u001b[0m \u001b[0mbool\u001b[0m \u001b[0;34m=\u001b[0m \u001b[0;32mFalse\u001b[0m\u001b[0;34m,\u001b[0m\u001b[0;34m\u001b[0m\u001b[0;34m\u001b[0m\u001b[0m\n\u001b[1;32m   8598\u001b[0m         \u001b[0mresult_names\u001b[0m\u001b[0;34m:\u001b[0m \u001b[0mSuffixes\u001b[0m \u001b[0;34m=\u001b[0m \u001b[0;34m(\u001b[0m\u001b[0;34m\"self\"\u001b[0m\u001b[0;34m,\u001b[0m \u001b[0;34m\"other\"\u001b[0m\u001b[0;34m)\u001b[0m\u001b[0;34m,\u001b[0m\u001b[0;34m\u001b[0m\u001b[0;34m\u001b[0m\u001b[0m\n\u001b[1;32m   8599\u001b[0m     ) -> DataFrame:\n\u001b[0;32m-> 8600\u001b[0;31m         return super().compare(\n\u001b[0m\u001b[1;32m   8601\u001b[0m             \u001b[0mother\u001b[0m\u001b[0;34m=\u001b[0m\u001b[0mother\u001b[0m\u001b[0;34m,\u001b[0m\u001b[0;34m\u001b[0m\u001b[0;34m\u001b[0m\u001b[0m\n\u001b[1;32m   8602\u001b[0m             \u001b[0malign_axis\u001b[0m\u001b[0;34m=\u001b[0m\u001b[0malign_axis\u001b[0m\u001b[0;34m,\u001b[0m\u001b[0;34m\u001b[0m\u001b[0;34m\u001b[0m\u001b[0m\n\u001b[1;32m   8603\u001b[0m             \u001b[0mkeep_shape\u001b[0m\u001b[0;34m=\u001b[0m\u001b[0mkeep_shape\u001b[0m\u001b[0;34m,\u001b[0m\u001b[0;34m\u001b[0m\u001b[0;34m\u001b[0m\u001b[0m\n",
      "\u001b[0;32m~/Documents/GitHub/datashelf/.venv/lib/python3.10/site-packages/pandas/core/generic.py\u001b[0m in \u001b[0;36m?\u001b[0;34m(self, other, align_axis, keep_shape, keep_equal, result_names)\u001b[0m\n\u001b[1;32m  10136\u001b[0m             raise TypeError(\n\u001b[1;32m  10137\u001b[0m                 \u001b[0;34mf\"can only compare '{cls_self}' (not '{cls_other}') with '{cls_self}'\"\u001b[0m\u001b[0;34m\u001b[0m\u001b[0;34m\u001b[0m\u001b[0m\n\u001b[1;32m  10138\u001b[0m             )\n\u001b[1;32m  10139\u001b[0m \u001b[0;34m\u001b[0m\u001b[0m\n\u001b[0;32m> 10140\u001b[0;31m         \u001b[0mmask\u001b[0m \u001b[0;34m=\u001b[0m \u001b[0;34m~\u001b[0m\u001b[0;34m(\u001b[0m\u001b[0;34m(\u001b[0m\u001b[0mself\u001b[0m \u001b[0;34m==\u001b[0m \u001b[0mother\u001b[0m\u001b[0;34m)\u001b[0m \u001b[0;34m|\u001b[0m \u001b[0;34m(\u001b[0m\u001b[0mself\u001b[0m\u001b[0;34m.\u001b[0m\u001b[0misna\u001b[0m\u001b[0;34m(\u001b[0m\u001b[0;34m)\u001b[0m \u001b[0;34m&\u001b[0m \u001b[0mother\u001b[0m\u001b[0;34m.\u001b[0m\u001b[0misna\u001b[0m\u001b[0;34m(\u001b[0m\u001b[0;34m)\u001b[0m\u001b[0;34m)\u001b[0m\u001b[0;34m)\u001b[0m\u001b[0;34m\u001b[0m\u001b[0;34m\u001b[0m\u001b[0m\n\u001b[0m\u001b[1;32m  10141\u001b[0m         \u001b[0mmask\u001b[0m\u001b[0;34m.\u001b[0m\u001b[0mfillna\u001b[0m\u001b[0;34m(\u001b[0m\u001b[0;32mTrue\u001b[0m\u001b[0;34m,\u001b[0m \u001b[0minplace\u001b[0m\u001b[0;34m=\u001b[0m\u001b[0;32mTrue\u001b[0m\u001b[0;34m)\u001b[0m\u001b[0;34m\u001b[0m\u001b[0;34m\u001b[0m\u001b[0m\n\u001b[1;32m  10142\u001b[0m \u001b[0;34m\u001b[0m\u001b[0m\n\u001b[1;32m  10143\u001b[0m         \u001b[0;32mif\u001b[0m \u001b[0;32mnot\u001b[0m \u001b[0mkeep_equal\u001b[0m\u001b[0;34m:\u001b[0m\u001b[0;34m\u001b[0m\u001b[0;34m\u001b[0m\u001b[0m\n",
      "\u001b[0;32m~/Documents/GitHub/datashelf/.venv/lib/python3.10/site-packages/pandas/core/ops/common.py\u001b[0m in \u001b[0;36m?\u001b[0;34m(self, other)\u001b[0m\n\u001b[1;32m     72\u001b[0m                     \u001b[0;32mreturn\u001b[0m \u001b[0mNotImplemented\u001b[0m\u001b[0;34m\u001b[0m\u001b[0;34m\u001b[0m\u001b[0m\n\u001b[1;32m     73\u001b[0m \u001b[0;34m\u001b[0m\u001b[0m\n\u001b[1;32m     74\u001b[0m         \u001b[0mother\u001b[0m \u001b[0;34m=\u001b[0m \u001b[0mitem_from_zerodim\u001b[0m\u001b[0;34m(\u001b[0m\u001b[0mother\u001b[0m\u001b[0;34m)\u001b[0m\u001b[0;34m\u001b[0m\u001b[0;34m\u001b[0m\u001b[0m\n\u001b[1;32m     75\u001b[0m \u001b[0;34m\u001b[0m\u001b[0m\n\u001b[0;32m---> 76\u001b[0;31m         \u001b[0;32mreturn\u001b[0m \u001b[0mmethod\u001b[0m\u001b[0;34m(\u001b[0m\u001b[0mself\u001b[0m\u001b[0;34m,\u001b[0m \u001b[0mother\u001b[0m\u001b[0;34m)\u001b[0m\u001b[0;34m\u001b[0m\u001b[0;34m\u001b[0m\u001b[0m\n\u001b[0m",
      "\u001b[0;32m~/Documents/GitHub/datashelf/.venv/lib/python3.10/site-packages/pandas/core/arraylike.py\u001b[0m in \u001b[0;36m?\u001b[0;34m(self, other)\u001b[0m\n\u001b[1;32m     38\u001b[0m     \u001b[0;34m@\u001b[0m\u001b[0munpack_zerodim_and_defer\u001b[0m\u001b[0;34m(\u001b[0m\u001b[0;34m\"__eq__\"\u001b[0m\u001b[0;34m)\u001b[0m\u001b[0;34m\u001b[0m\u001b[0;34m\u001b[0m\u001b[0m\n\u001b[1;32m     39\u001b[0m     \u001b[0;32mdef\u001b[0m \u001b[0m__eq__\u001b[0m\u001b[0;34m(\u001b[0m\u001b[0mself\u001b[0m\u001b[0;34m,\u001b[0m \u001b[0mother\u001b[0m\u001b[0;34m)\u001b[0m\u001b[0;34m:\u001b[0m\u001b[0;34m\u001b[0m\u001b[0;34m\u001b[0m\u001b[0m\n\u001b[0;32m---> 40\u001b[0;31m         \u001b[0;32mreturn\u001b[0m \u001b[0mself\u001b[0m\u001b[0;34m.\u001b[0m\u001b[0m_cmp_method\u001b[0m\u001b[0;34m(\u001b[0m\u001b[0mother\u001b[0m\u001b[0;34m,\u001b[0m \u001b[0moperator\u001b[0m\u001b[0;34m.\u001b[0m\u001b[0meq\u001b[0m\u001b[0;34m)\u001b[0m\u001b[0;34m\u001b[0m\u001b[0;34m\u001b[0m\u001b[0m\n\u001b[0m",
      "\u001b[0;32m~/Documents/GitHub/datashelf/.venv/lib/python3.10/site-packages/pandas/core/frame.py\u001b[0m in \u001b[0;36m?\u001b[0;34m(self, other, op)\u001b[0m\n\u001b[1;32m   7901\u001b[0m     \u001b[0;32mdef\u001b[0m \u001b[0m_cmp_method\u001b[0m\u001b[0;34m(\u001b[0m\u001b[0mself\u001b[0m\u001b[0;34m,\u001b[0m \u001b[0mother\u001b[0m\u001b[0;34m,\u001b[0m \u001b[0mop\u001b[0m\u001b[0;34m)\u001b[0m\u001b[0;34m:\u001b[0m\u001b[0;34m\u001b[0m\u001b[0;34m\u001b[0m\u001b[0m\n\u001b[1;32m   7902\u001b[0m         \u001b[0maxis\u001b[0m\u001b[0;34m:\u001b[0m \u001b[0mLiteral\u001b[0m\u001b[0;34m[\u001b[0m\u001b[0;36m1\u001b[0m\u001b[0;34m]\u001b[0m \u001b[0;34m=\u001b[0m \u001b[0;36m1\u001b[0m  \u001b[0;31m# only relevant for Series other case\u001b[0m\u001b[0;34m\u001b[0m\u001b[0;34m\u001b[0m\u001b[0m\n\u001b[1;32m   7903\u001b[0m \u001b[0;34m\u001b[0m\u001b[0m\n\u001b[0;32m-> 7904\u001b[0;31m         \u001b[0mself\u001b[0m\u001b[0;34m,\u001b[0m \u001b[0mother\u001b[0m \u001b[0;34m=\u001b[0m \u001b[0mself\u001b[0m\u001b[0;34m.\u001b[0m\u001b[0m_align_for_op\u001b[0m\u001b[0;34m(\u001b[0m\u001b[0mother\u001b[0m\u001b[0;34m,\u001b[0m \u001b[0maxis\u001b[0m\u001b[0;34m,\u001b[0m \u001b[0mflex\u001b[0m\u001b[0;34m=\u001b[0m\u001b[0;32mFalse\u001b[0m\u001b[0;34m,\u001b[0m \u001b[0mlevel\u001b[0m\u001b[0;34m=\u001b[0m\u001b[0;32mNone\u001b[0m\u001b[0;34m)\u001b[0m\u001b[0;34m\u001b[0m\u001b[0;34m\u001b[0m\u001b[0m\n\u001b[0m\u001b[1;32m   7905\u001b[0m \u001b[0;34m\u001b[0m\u001b[0m\n\u001b[1;32m   7906\u001b[0m         \u001b[0;31m# See GH#4537 for discussion of scalar op behavior\u001b[0m\u001b[0;34m\u001b[0m\u001b[0;34m\u001b[0m\u001b[0m\n\u001b[1;32m   7907\u001b[0m         \u001b[0mnew_data\u001b[0m \u001b[0;34m=\u001b[0m \u001b[0mself\u001b[0m\u001b[0;34m.\u001b[0m\u001b[0m_dispatch_frame_op\u001b[0m\u001b[0;34m(\u001b[0m\u001b[0mother\u001b[0m\u001b[0;34m,\u001b[0m \u001b[0mop\u001b[0m\u001b[0;34m,\u001b[0m \u001b[0maxis\u001b[0m\u001b[0;34m=\u001b[0m\u001b[0maxis\u001b[0m\u001b[0;34m)\u001b[0m\u001b[0;34m\u001b[0m\u001b[0;34m\u001b[0m\u001b[0m\n",
      "\u001b[0;32m~/Documents/GitHub/datashelf/.venv/lib/python3.10/site-packages/pandas/core/frame.py\u001b[0m in \u001b[0;36m?\u001b[0;34m(self, other, axis, flex, level)\u001b[0m\n\u001b[1;32m   8199\u001b[0m                     left, right = left.align(\n\u001b[1;32m   8200\u001b[0m                         \u001b[0mright\u001b[0m\u001b[0;34m,\u001b[0m \u001b[0mjoin\u001b[0m\u001b[0;34m=\u001b[0m\u001b[0;34m\"outer\"\u001b[0m\u001b[0;34m,\u001b[0m \u001b[0mlevel\u001b[0m\u001b[0;34m=\u001b[0m\u001b[0mlevel\u001b[0m\u001b[0;34m,\u001b[0m \u001b[0mcopy\u001b[0m\u001b[0;34m=\u001b[0m\u001b[0;32mFalse\u001b[0m\u001b[0;34m\u001b[0m\u001b[0;34m\u001b[0m\u001b[0m\n\u001b[1;32m   8201\u001b[0m                     )\n\u001b[1;32m   8202\u001b[0m                 \u001b[0;32melse\u001b[0m\u001b[0;34m:\u001b[0m\u001b[0;34m\u001b[0m\u001b[0;34m\u001b[0m\u001b[0m\n\u001b[0;32m-> 8203\u001b[0;31m                     raise ValueError(\n\u001b[0m\u001b[1;32m   8204\u001b[0m                         \u001b[0;34m\"Can only compare identically-labeled (both index and columns) \"\u001b[0m\u001b[0;34m\u001b[0m\u001b[0;34m\u001b[0m\u001b[0m\n\u001b[1;32m   8205\u001b[0m                         \u001b[0;34m\"DataFrame objects\"\u001b[0m\u001b[0;34m\u001b[0m\u001b[0;34m\u001b[0m\u001b[0m\n\u001b[1;32m   8206\u001b[0m                     )\n",
      "\u001b[0;31mValueError\u001b[0m: Can only compare identically-labeled (both index and columns) DataFrame objects"
     ]
    }
   ],
   "source": [
    "raw_df.compare(int_df, align_axis=0)"
   ]
  },
  {
   "cell_type": "code",
   "execution_count": null,
   "id": "aa62738e",
   "metadata": {},
   "outputs": [],
   "source": []
  }
 ],
 "metadata": {
  "kernelspec": {
   "display_name": ".venv",
   "language": "python",
   "name": "python3"
  },
  "language_info": {
   "codemirror_mode": {
    "name": "ipython",
    "version": 3
   },
   "file_extension": ".py",
   "mimetype": "text/x-python",
   "name": "python",
   "nbconvert_exporter": "python",
   "pygments_lexer": "ipython3",
   "version": "3.10.10"
  }
 },
 "nbformat": 4,
 "nbformat_minor": 5
}
